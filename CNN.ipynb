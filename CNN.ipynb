{
 "cells": [
  {
   "cell_type": "code",
   "execution_count": 1,
   "metadata": {},
   "outputs": [
    {
     "name": "stderr",
     "output_type": "stream",
     "text": [
      "Using TensorFlow backend.\n"
     ]
    }
   ],
   "source": [
    "import numpy as np\n",
    "import os\n",
    "import matplotlib.pyplot as plt\n",
    "import pandas as pd\n",
    "from sklearn.model_selection import train_test_split\n",
    "\n",
    "import tensorflow as tf\n",
    "from keras.models import Sequential\n",
    "from keras.layers.core import Dense, Dropout, Activation, Flatten\n",
    "from keras.layers.convolutional import Conv2D, MaxPooling2D\n",
    "from keras.optimizers import SGD,RMSprop,adam\n",
    "from keras.utils import to_categorical\n",
    "from keras.models import model_from_json\n",
    "from keras.callbacks import ReduceLROnPlateau, EarlyStopping"
   ]
  },
  {
   "cell_type": "code",
   "execution_count": 2,
   "metadata": {},
   "outputs": [],
   "source": [
    "# Loading data\n",
    "data = np.genfromtxt('train.csv', delimiter=',')\n",
    "data = data[1:]"
   ]
  },
  {
   "cell_type": "code",
   "execution_count": 3,
   "metadata": {},
   "outputs": [
    {
     "name": "stdout",
     "output_type": "stream",
     "text": [
      "(42000,) (42000, 784)\n"
     ]
    }
   ],
   "source": [
    "# sorting data in Y and X\n",
    "Y = data[0: ,0]\n",
    "X = data[0: ,1: ]\n",
    "print(Y.shape, X.shape)"
   ]
  },
  {
   "cell_type": "code",
   "execution_count": 4,
   "metadata": {},
   "outputs": [],
   "source": [
    "# Define image dimensions\n",
    "img_rows = 28\n",
    "img_cols = 28\n",
    "channel = 1\n",
    "\n",
    "# Define model parameters\n",
    "nb_classes = 10\n",
    "\n",
    "#batch_size to train\n",
    "batch_size = 256\n",
    "\n",
    "# number of output classes\n",
    "nb_classes = 10\n",
    "\n",
    "# number of epochs to train\n",
    "nb_epoch = 150\n",
    "\n",
    "# number of convolutional filters to use\n",
    "nb_filters_1 = 20\n",
    "nb_filters_2 = 50\n",
    "\n",
    "# size of pooling area for max pooling\n",
    "nb_pool = 2\n",
    "\n",
    "# convolution kernel size\n",
    "nb_conv = 3"
   ]
  },
  {
   "cell_type": "code",
   "execution_count": 5,
   "metadata": {},
   "outputs": [],
   "source": [
    "# Train-test split\n",
    "X_train, X_test, Y_train, Y_test = train_test_split(X, Y, test_size=0.1, random_state = 4)"
   ]
  },
  {
   "cell_type": "code",
   "execution_count": 6,
   "metadata": {},
   "outputs": [
    {
     "name": "stdout",
     "output_type": "stream",
     "text": [
      "(33600, 28, 28, 1) (33600, 10) (8400, 28, 28, 1) (8400, 10)\n"
     ]
    }
   ],
   "source": [
    "# Using correct dimesntions for input data\n",
    "X_train = X_train.reshape(X_train.shape[0], img_rows, img_cols, 1)\n",
    "X_test = X_test.reshape(X_test.shape[0], img_rows, img_cols, 1)\n",
    "\n",
    "# Assigning X_train and X_test as float\n",
    "X_train = X_train.astype('float32') \n",
    "X_test = X_test.astype('float32')\n",
    "\n",
    "X_train /= 255\n",
    "X_test /= 255\n",
    "\n",
    "# Convert class vectors to binary class matrices\n",
    "Y_train = to_categorical(Y_train, nb_classes)\n",
    "Y_test = to_categorical(Y_test, nb_classes)\n",
    "\n",
    "print(X_train.shape, Y_train.shape, X_test.shape, Y_test.shape)"
   ]
  },
  {
   "cell_type": "code",
   "execution_count": 14,
   "metadata": {},
   "outputs": [],
   "source": [
    "# Implementing CNN\n",
    "model = Sequential()\n",
    "\n",
    "model.add(Conv2D(nb_filters_1, kernel_size = (nb_conv, nb_conv), activation='relu', input_shape=(img_rows, img_cols, 1)))\n",
    "model.add(MaxPooling2D(pool_size = (nb_pool, nb_pool), strides = (2, 2)))\n",
    "\n",
    "model.add(Dropout(0.2))\n",
    "\n",
    "model.add(Conv2D(nb_filters_2, kernel_size = (nb_conv, nb_conv), activation='relu'))\n",
    "model.add(MaxPooling2D(pool_size = (nb_pool, nb_pool), strides = (2, 2)))\n",
    "\n",
    "model.add(Dropout(0.2))\n",
    "\n",
    "model.add(Flatten())\n",
    "model.add(Dense(256, activation='relu'))\n",
    "\n",
    "model.add(Dense(nb_classes, activation='softmax'))"
   ]
  },
  {
   "cell_type": "code",
   "execution_count": 15,
   "metadata": {},
   "outputs": [
    {
     "name": "stdout",
     "output_type": "stream",
     "text": [
      "_________________________________________________________________\n",
      "Layer (type)                 Output Shape              Param #   \n",
      "=================================================================\n",
      "conv2d_17 (Conv2D)           (None, 24, 24, 20)        520       \n",
      "_________________________________________________________________\n",
      "max_pooling2d_13 (MaxPooling (None, 12, 12, 20)        0         \n",
      "_________________________________________________________________\n",
      "dropout_4 (Dropout)          (None, 12, 12, 20)        0         \n",
      "_________________________________________________________________\n",
      "conv2d_18 (Conv2D)           (None, 8, 8, 50)          25050     \n",
      "_________________________________________________________________\n",
      "max_pooling2d_14 (MaxPooling (None, 4, 4, 50)          0         \n",
      "_________________________________________________________________\n",
      "dropout_5 (Dropout)          (None, 4, 4, 50)          0         \n",
      "_________________________________________________________________\n",
      "flatten_3 (Flatten)          (None, 800)               0         \n",
      "_________________________________________________________________\n",
      "dense_5 (Dense)              (None, 256)               205056    \n",
      "_________________________________________________________________\n",
      "dense_6 (Dense)              (None, 10)                2570      \n",
      "=================================================================\n",
      "Total params: 233,196\n",
      "Trainable params: 233,196\n",
      "Non-trainable params: 0\n",
      "_________________________________________________________________\n"
     ]
    }
   ],
   "source": [
    "# Optimizer used is Stochastic Gradient Descent with learning rate of 0.01\n",
    "# Loss is calculated using categorical cross entropy\n",
    "opt = SGD(lr = 0.01)\n",
    "ReducedLR = ReduceLROnPlateau(monitor='val_loss', factor=0.1, patience=5, verbose=1, mode='auto', min_lr=1*10**-7)\n",
    "early_stop = EarlyStopping(monitor='val_loss', patience=10, verbose=1, mode='auto')\n",
    "model.compile(loss='categorical_crossentropy', optimizer = opt, metrics = ['accuracy'])\n",
    "model.summary()"
   ]
  },
  {
   "cell_type": "code",
   "execution_count": 16,
   "metadata": {},
   "outputs": [
    {
     "name": "stdout",
     "output_type": "stream",
     "text": [
      "WARNING:tensorflow:From C:\\Users\\Ayush Shirsat\\Anaconda3\\lib\\site-packages\\tensorflow\\python\\ops\\math_ops.py:3066: to_int32 (from tensorflow.python.ops.math_ops) is deprecated and will be removed in a future version.\n",
      "Instructions for updating:\n",
      "Use tf.cast instead.\n",
      "Train on 26880 samples, validate on 6720 samples\n",
      "Epoch 1/150\n",
      "26880/26880 [==============================] - 15s 540us/step - loss: 2.2306 - acc: 0.2722 - val_loss: 2.0905 - val_acc: 0.6496\n",
      "Epoch 2/150\n",
      "26880/26880 [==============================] - 14s 537us/step - loss: 1.6736 - acc: 0.5601 - val_loss: 0.9542 - val_acc: 0.8097\n",
      "Epoch 3/150\n",
      "26880/26880 [==============================] - 15s 574us/step - loss: 0.8235 - acc: 0.7510 - val_loss: 0.5090 - val_acc: 0.8595\n",
      "Epoch 4/150\n",
      "26880/26880 [==============================] - 14s 515us/step - loss: 0.5782 - acc: 0.8185 - val_loss: 0.3977 - val_acc: 0.8863\n",
      "Epoch 5/150\n",
      "26880/26880 [==============================] - 15s 543us/step - loss: 0.4770 - acc: 0.8538 - val_loss: 0.3441 - val_acc: 0.9001\n",
      "Epoch 6/150\n",
      "26880/26880 [==============================] - 15s 573us/step - loss: 0.4151 - acc: 0.8718 - val_loss: 0.3034 - val_acc: 0.9137\n",
      "Epoch 7/150\n",
      "26880/26880 [==============================] - 18s 684us/step - loss: 0.3701 - acc: 0.8856 - val_loss: 0.2761 - val_acc: 0.9186\n",
      "Epoch 8/150\n",
      "26880/26880 [==============================] - 17s 649us/step - loss: 0.3343 - acc: 0.8965 - val_loss: 0.2515 - val_acc: 0.9271\n",
      "Epoch 9/150\n",
      "26880/26880 [==============================] - 17s 628us/step - loss: 0.3102 - acc: 0.9054 - val_loss: 0.2325 - val_acc: 0.9327\n",
      "Epoch 10/150\n",
      "26880/26880 [==============================] - 17s 616us/step - loss: 0.2866 - acc: 0.9119 - val_loss: 0.2194 - val_acc: 0.9348\n",
      "Epoch 11/150\n",
      "26880/26880 [==============================] - 16s 584us/step - loss: 0.2700 - acc: 0.9178 - val_loss: 0.2055 - val_acc: 0.9397\n",
      "Epoch 12/150\n",
      "26880/26880 [==============================] - 15s 565us/step - loss: 0.2523 - acc: 0.9241 - val_loss: 0.1938 - val_acc: 0.9427\n",
      "Epoch 13/150\n",
      "26880/26880 [==============================] - 14s 532us/step - loss: 0.2422 - acc: 0.9259 - val_loss: 0.1858 - val_acc: 0.9449\n",
      "Epoch 14/150\n",
      "26880/26880 [==============================] - 15s 566us/step - loss: 0.2293 - acc: 0.9291 - val_loss: 0.1773 - val_acc: 0.9485\n",
      "Epoch 15/150\n",
      "26880/26880 [==============================] - 14s 536us/step - loss: 0.2189 - acc: 0.9321 - val_loss: 0.1683 - val_acc: 0.9494\n",
      "Epoch 16/150\n",
      "26880/26880 [==============================] - 15s 564us/step - loss: 0.2116 - acc: 0.9368 - val_loss: 0.1626 - val_acc: 0.9509\n",
      "Epoch 17/150\n",
      "26880/26880 [==============================] - 15s 554us/step - loss: 0.2004 - acc: 0.9392 - val_loss: 0.1570 - val_acc: 0.9509\n",
      "Epoch 18/150\n",
      "26880/26880 [==============================] - 17s 630us/step - loss: 0.1915 - acc: 0.9413 - val_loss: 0.1515 - val_acc: 0.9549\n",
      "Epoch 19/150\n",
      "26880/26880 [==============================] - 14s 534us/step - loss: 0.1840 - acc: 0.9446 - val_loss: 0.1454 - val_acc: 0.9551\n",
      "Epoch 20/150\n",
      "26880/26880 [==============================] - 16s 586us/step - loss: 0.1799 - acc: 0.9451 - val_loss: 0.1420 - val_acc: 0.9565\n",
      "Epoch 21/150\n",
      "26880/26880 [==============================] - 14s 526us/step - loss: 0.1760 - acc: 0.9468 - val_loss: 0.1364 - val_acc: 0.9583\n",
      "Epoch 22/150\n",
      "26880/26880 [==============================] - 15s 566us/step - loss: 0.1690 - acc: 0.9506 - val_loss: 0.1330 - val_acc: 0.9598\n",
      "Epoch 23/150\n",
      "26880/26880 [==============================] - 16s 588us/step - loss: 0.1662 - acc: 0.9502 - val_loss: 0.1310 - val_acc: 0.9595\n",
      "Epoch 24/150\n",
      "26880/26880 [==============================] - 15s 556us/step - loss: 0.1617 - acc: 0.9500 - val_loss: 0.1264 - val_acc: 0.9609\n",
      "Epoch 25/150\n",
      "26880/26880 [==============================] - 15s 565us/step - loss: 0.1547 - acc: 0.9530 - val_loss: 0.1227 - val_acc: 0.9625\n",
      "Epoch 26/150\n",
      "26880/26880 [==============================] - 15s 557us/step - loss: 0.1527 - acc: 0.9523 - val_loss: 0.1207 - val_acc: 0.9625\n",
      "Epoch 27/150\n",
      "26880/26880 [==============================] - 15s 574us/step - loss: 0.1471 - acc: 0.9550 - val_loss: 0.1176 - val_acc: 0.9621\n",
      "Epoch 28/150\n",
      "26880/26880 [==============================] - 16s 608us/step - loss: 0.1430 - acc: 0.9559 - val_loss: 0.1141 - val_acc: 0.9643\n",
      "Epoch 29/150\n",
      "26880/26880 [==============================] - 15s 559us/step - loss: 0.1420 - acc: 0.9567 - val_loss: 0.1113 - val_acc: 0.9659\n",
      "Epoch 30/150\n",
      "26880/26880 [==============================] - 15s 547us/step - loss: 0.1392 - acc: 0.9567 - val_loss: 0.1092 - val_acc: 0.9673\n",
      "Epoch 31/150\n",
      "26880/26880 [==============================] - 14s 524us/step - loss: 0.1335 - acc: 0.9585 - val_loss: 0.1083 - val_acc: 0.9662\n",
      "Epoch 32/150\n",
      "26880/26880 [==============================] - 14s 506us/step - loss: 0.1331 - acc: 0.9591 - val_loss: 0.1057 - val_acc: 0.9671\n",
      "Epoch 33/150\n",
      "26880/26880 [==============================] - 15s 552us/step - loss: 0.1291 - acc: 0.9604 - val_loss: 0.1032 - val_acc: 0.9676\n",
      "Epoch 34/150\n",
      "26880/26880 [==============================] - 14s 523us/step - loss: 0.1244 - acc: 0.9622 - val_loss: 0.1014 - val_acc: 0.9685\n",
      "Epoch 35/150\n",
      "26880/26880 [==============================] - 14s 525us/step - loss: 0.1238 - acc: 0.9603 - val_loss: 0.1001 - val_acc: 0.9696\n",
      "Epoch 36/150\n",
      "26880/26880 [==============================] - 15s 562us/step - loss: 0.1197 - acc: 0.9629 - val_loss: 0.0995 - val_acc: 0.9688\n",
      "Epoch 37/150\n",
      "26880/26880 [==============================] - 15s 577us/step - loss: 0.1195 - acc: 0.9625 - val_loss: 0.0973 - val_acc: 0.9688\n",
      "Epoch 38/150\n",
      "26880/26880 [==============================] - 16s 607us/step - loss: 0.1201 - acc: 0.9628 - val_loss: 0.0954 - val_acc: 0.9696\n",
      "Epoch 39/150\n",
      "26880/26880 [==============================] - 15s 576us/step - loss: 0.1181 - acc: 0.9632 - val_loss: 0.0941 - val_acc: 0.9704\n",
      "Epoch 40/150\n",
      "26880/26880 [==============================] - 16s 587us/step - loss: 0.1149 - acc: 0.9652 - val_loss: 0.0930 - val_acc: 0.9704\n",
      "Epoch 41/150\n",
      "26880/26880 [==============================] - 16s 605us/step - loss: 0.1119 - acc: 0.9665 - val_loss: 0.0922 - val_acc: 0.9720\n",
      "Epoch 42/150\n",
      "26880/26880 [==============================] - 16s 581us/step - loss: 0.1107 - acc: 0.9650 - val_loss: 0.0896 - val_acc: 0.9722\n",
      "Epoch 43/150\n",
      "26880/26880 [==============================] - 15s 551us/step - loss: 0.1075 - acc: 0.9667 - val_loss: 0.0882 - val_acc: 0.9728\n",
      "Epoch 44/150\n",
      "26880/26880 [==============================] - 16s 593us/step - loss: 0.1064 - acc: 0.9656 - val_loss: 0.0882 - val_acc: 0.9732\n",
      "Epoch 45/150\n",
      "26880/26880 [==============================] - 15s 556us/step - loss: 0.1062 - acc: 0.9673 - val_loss: 0.0862 - val_acc: 0.9728\n",
      "Epoch 46/150\n",
      "26880/26880 [==============================] - 16s 589us/step - loss: 0.1039 - acc: 0.9675 - val_loss: 0.0858 - val_acc: 0.9731\n",
      "Epoch 47/150\n",
      "26880/26880 [==============================] - 16s 582us/step - loss: 0.1022 - acc: 0.9673 - val_loss: 0.0843 - val_acc: 0.9743\n",
      "Epoch 48/150\n",
      "26880/26880 [==============================] - 16s 589us/step - loss: 0.1008 - acc: 0.9677 - val_loss: 0.0863 - val_acc: 0.9731\n",
      "Epoch 49/150\n",
      "26880/26880 [==============================] - 15s 562us/step - loss: 0.1029 - acc: 0.9679 - val_loss: 0.0824 - val_acc: 0.9746\n",
      "Epoch 50/150\n",
      "26880/26880 [==============================] - 16s 591us/step - loss: 0.0987 - acc: 0.9690 - val_loss: 0.0824 - val_acc: 0.9747\n",
      "Epoch 51/150\n",
      "26880/26880 [==============================] - 16s 587us/step - loss: 0.0963 - acc: 0.9698 - val_loss: 0.0800 - val_acc: 0.9756\n",
      "Epoch 52/150\n",
      "26880/26880 [==============================] - 16s 604us/step - loss: 0.0961 - acc: 0.9686 - val_loss: 0.0795 - val_acc: 0.9749\n",
      "Epoch 53/150\n",
      "26880/26880 [==============================] - 17s 616us/step - loss: 0.0937 - acc: 0.9701 - val_loss: 0.0784 - val_acc: 0.9754\n",
      "Epoch 54/150\n",
      "26880/26880 [==============================] - 20s 747us/step - loss: 0.0917 - acc: 0.9711 - val_loss: 0.0785 - val_acc: 0.9753\n",
      "Epoch 55/150\n",
      "26880/26880 [==============================] - 18s 668us/step - loss: 0.0948 - acc: 0.9706 - val_loss: 0.0774 - val_acc: 0.9757\n",
      "Epoch 56/150\n",
      "26880/26880 [==============================] - 16s 613us/step - loss: 0.0914 - acc: 0.9709 - val_loss: 0.0761 - val_acc: 0.9762\n"
     ]
    },
    {
     "name": "stdout",
     "output_type": "stream",
     "text": [
      "Epoch 57/150\n",
      "26880/26880 [==============================] - 18s 683us/step - loss: 0.0893 - acc: 0.9711 - val_loss: 0.0759 - val_acc: 0.9762\n",
      "Epoch 58/150\n",
      "26880/26880 [==============================] - 17s 639us/step - loss: 0.0864 - acc: 0.9735 - val_loss: 0.0749 - val_acc: 0.9771\n",
      "Epoch 59/150\n",
      "26880/26880 [==============================] - 17s 639us/step - loss: 0.0885 - acc: 0.9726 - val_loss: 0.0751 - val_acc: 0.9769\n",
      "Epoch 60/150\n",
      "26880/26880 [==============================] - 16s 592us/step - loss: 0.0868 - acc: 0.9727 - val_loss: 0.0745 - val_acc: 0.9769\n",
      "Epoch 61/150\n",
      "26880/26880 [==============================] - 17s 625us/step - loss: 0.0881 - acc: 0.9721 - val_loss: 0.0733 - val_acc: 0.9781\n",
      "Epoch 62/150\n",
      "26880/26880 [==============================] - 17s 637us/step - loss: 0.0846 - acc: 0.9733 - val_loss: 0.0713 - val_acc: 0.9774\n",
      "Epoch 63/150\n",
      "26880/26880 [==============================] - 15s 560us/step - loss: 0.0849 - acc: 0.9732 - val_loss: 0.0712 - val_acc: 0.9781\n",
      "Epoch 64/150\n",
      "26880/26880 [==============================] - 15s 571us/step - loss: 0.0823 - acc: 0.9749 - val_loss: 0.0709 - val_acc: 0.9783\n",
      "Epoch 65/150\n",
      "26880/26880 [==============================] - 16s 599us/step - loss: 0.0817 - acc: 0.9744 - val_loss: 0.0707 - val_acc: 0.9778\n",
      "Epoch 66/150\n",
      "26880/26880 [==============================] - 17s 614us/step - loss: 0.0802 - acc: 0.9745 - val_loss: 0.0700 - val_acc: 0.9780\n",
      "Epoch 67/150\n",
      "26880/26880 [==============================] - 16s 580us/step - loss: 0.0798 - acc: 0.9740 - val_loss: 0.0698 - val_acc: 0.9789\n",
      "Epoch 68/150\n",
      "26880/26880 [==============================] - 16s 581us/step - loss: 0.0792 - acc: 0.9753 - val_loss: 0.0690 - val_acc: 0.9783\n",
      "Epoch 69/150\n",
      "26880/26880 [==============================] - 16s 585us/step - loss: 0.0799 - acc: 0.9755 - val_loss: 0.0676 - val_acc: 0.9792\n",
      "Epoch 70/150\n",
      "26880/26880 [==============================] - 18s 687us/step - loss: 0.0773 - acc: 0.9748 - val_loss: 0.0675 - val_acc: 0.9795\n",
      "Epoch 71/150\n",
      "26880/26880 [==============================] - 17s 631us/step - loss: 0.0763 - acc: 0.9760 - val_loss: 0.0673 - val_acc: 0.9783\n",
      "Epoch 72/150\n",
      "26880/26880 [==============================] - 17s 617us/step - loss: 0.0773 - acc: 0.9746 - val_loss: 0.0663 - val_acc: 0.9786\n",
      "Epoch 73/150\n",
      "26880/26880 [==============================] - 17s 616us/step - loss: 0.0763 - acc: 0.9758 - val_loss: 0.0659 - val_acc: 0.9789\n",
      "Epoch 74/150\n",
      "26880/26880 [==============================] - 16s 588us/step - loss: 0.0762 - acc: 0.9754 - val_loss: 0.0649 - val_acc: 0.9795\n",
      "Epoch 75/150\n",
      "26880/26880 [==============================] - 16s 587us/step - loss: 0.0765 - acc: 0.9760 - val_loss: 0.0649 - val_acc: 0.9805\n",
      "Epoch 76/150\n",
      "26880/26880 [==============================] - 16s 592us/step - loss: 0.0764 - acc: 0.9758 - val_loss: 0.0645 - val_acc: 0.9793\n",
      "Epoch 77/150\n",
      "26880/26880 [==============================] - 17s 650us/step - loss: 0.0726 - acc: 0.9778 - val_loss: 0.0649 - val_acc: 0.9801\n",
      "Epoch 78/150\n",
      "26880/26880 [==============================] - 19s 697us/step - loss: 0.0740 - acc: 0.9773 - val_loss: 0.0643 - val_acc: 0.9810\n",
      "Epoch 79/150\n",
      "26880/26880 [==============================] - 17s 624us/step - loss: 0.0734 - acc: 0.9761 - val_loss: 0.0626 - val_acc: 0.9807\n",
      "Epoch 80/150\n",
      "26880/26880 [==============================] - 16s 610us/step - loss: 0.0728 - acc: 0.9765 - val_loss: 0.0620 - val_acc: 0.9810\n",
      "Epoch 81/150\n",
      "26880/26880 [==============================] - 19s 695us/step - loss: 0.0701 - acc: 0.9785 - val_loss: 0.0626 - val_acc: 0.9804\n",
      "Epoch 82/150\n",
      "26880/26880 [==============================] - 16s 597us/step - loss: 0.0688 - acc: 0.9782 - val_loss: 0.0621 - val_acc: 0.9805\n",
      "Epoch 83/150\n",
      "26880/26880 [==============================] - 16s 606us/step - loss: 0.0693 - acc: 0.9772 - val_loss: 0.0611 - val_acc: 0.9815\n",
      "Epoch 84/150\n",
      "26880/26880 [==============================] - 16s 585us/step - loss: 0.0699 - acc: 0.9780 - val_loss: 0.0614 - val_acc: 0.9814\n",
      "Epoch 85/150\n",
      "26880/26880 [==============================] - 16s 583us/step - loss: 0.0693 - acc: 0.9778 - val_loss: 0.0610 - val_acc: 0.9810\n",
      "Epoch 86/150\n",
      "26880/26880 [==============================] - 16s 600us/step - loss: 0.0694 - acc: 0.9780 - val_loss: 0.0610 - val_acc: 0.9811\n",
      "Epoch 87/150\n",
      "26880/26880 [==============================] - 16s 611us/step - loss: 0.0653 - acc: 0.9790 - val_loss: 0.0607 - val_acc: 0.9815\n",
      "Epoch 88/150\n",
      "26880/26880 [==============================] - 18s 662us/step - loss: 0.0691 - acc: 0.9774 - val_loss: 0.0590 - val_acc: 0.9817\n",
      "Epoch 89/150\n",
      "26880/26880 [==============================] - 16s 585us/step - loss: 0.0647 - acc: 0.9794 - val_loss: 0.0595 - val_acc: 0.9827\n",
      "Epoch 90/150\n",
      "26880/26880 [==============================] - 16s 585us/step - loss: 0.0662 - acc: 0.9786 - val_loss: 0.0589 - val_acc: 0.9830\n",
      "Epoch 91/150\n",
      "26880/26880 [==============================] - 15s 571us/step - loss: 0.0647 - acc: 0.9795 - val_loss: 0.0594 - val_acc: 0.9821\n",
      "Epoch 92/150\n",
      "26880/26880 [==============================] - 16s 592us/step - loss: 0.0656 - acc: 0.9797 - val_loss: 0.0584 - val_acc: 0.9817\n",
      "Epoch 93/150\n",
      "26880/26880 [==============================] - 17s 635us/step - loss: 0.0622 - acc: 0.9802 - val_loss: 0.0591 - val_acc: 0.9820\n",
      "Epoch 94/150\n",
      "26880/26880 [==============================] - 16s 608us/step - loss: 0.0651 - acc: 0.9786 - val_loss: 0.0575 - val_acc: 0.9830\n",
      "Epoch 95/150\n",
      "26880/26880 [==============================] - 17s 641us/step - loss: 0.0620 - acc: 0.9801 - val_loss: 0.0572 - val_acc: 0.9826\n",
      "Epoch 96/150\n",
      "26880/26880 [==============================] - 16s 600us/step - loss: 0.0639 - acc: 0.9797 - val_loss: 0.0572 - val_acc: 0.9832\n",
      "Epoch 97/150\n",
      "26880/26880 [==============================] - 16s 610us/step - loss: 0.0626 - acc: 0.9804 - val_loss: 0.0574 - val_acc: 0.9818\n",
      "Epoch 98/150\n",
      "26880/26880 [==============================] - 17s 617us/step - loss: 0.0611 - acc: 0.9799 - val_loss: 0.0556 - val_acc: 0.9830\n",
      "Epoch 99/150\n",
      "26880/26880 [==============================] - 17s 622us/step - loss: 0.0616 - acc: 0.9805 - val_loss: 0.0560 - val_acc: 0.9824\n",
      "Epoch 100/150\n",
      "26880/26880 [==============================] - 16s 612us/step - loss: 0.0607 - acc: 0.9802 - val_loss: 0.0560 - val_acc: 0.9835\n",
      "Epoch 101/150\n",
      "26880/26880 [==============================] - 17s 621us/step - loss: 0.0604 - acc: 0.9810 - val_loss: 0.0552 - val_acc: 0.9836\n",
      "Epoch 102/150\n",
      "26880/26880 [==============================] - 16s 611us/step - loss: 0.0604 - acc: 0.9810 - val_loss: 0.0552 - val_acc: 0.9833\n",
      "Epoch 103/150\n",
      "26880/26880 [==============================] - 17s 627us/step - loss: 0.0602 - acc: 0.9811 - val_loss: 0.0558 - val_acc: 0.9838\n",
      "Epoch 104/150\n",
      "26880/26880 [==============================] - 16s 591us/step - loss: 0.0579 - acc: 0.9823 - val_loss: 0.0550 - val_acc: 0.9835\n",
      "Epoch 105/150\n",
      "26880/26880 [==============================] - 17s 640us/step - loss: 0.0584 - acc: 0.9814 - val_loss: 0.0549 - val_acc: 0.9835\n",
      "Epoch 106/150\n",
      "26880/26880 [==============================] - 16s 606us/step - loss: 0.0583 - acc: 0.9811 - val_loss: 0.0548 - val_acc: 0.9841\n",
      "Epoch 107/150\n",
      "26880/26880 [==============================] - 17s 628us/step - loss: 0.0571 - acc: 0.9820 - val_loss: 0.0557 - val_acc: 0.9841\n",
      "Epoch 108/150\n",
      "26880/26880 [==============================] - 17s 627us/step - loss: 0.0589 - acc: 0.9811 - val_loss: 0.0542 - val_acc: 0.9842\n",
      "Epoch 109/150\n",
      "26880/26880 [==============================] - 18s 677us/step - loss: 0.0563 - acc: 0.9818 - val_loss: 0.0543 - val_acc: 0.9835\n",
      "Epoch 110/150\n",
      "26880/26880 [==============================] - 17s 631us/step - loss: 0.0570 - acc: 0.9817 - val_loss: 0.0536 - val_acc: 0.9845\n",
      "Epoch 111/150\n",
      "26880/26880 [==============================] - 17s 628us/step - loss: 0.0570 - acc: 0.9809 - val_loss: 0.0540 - val_acc: 0.9844\n",
      "Epoch 112/150\n",
      "26880/26880 [==============================] - 16s 600us/step - loss: 0.0566 - acc: 0.9814 - val_loss: 0.0536 - val_acc: 0.9839\n",
      "Epoch 113/150\n",
      "26880/26880 [==============================] - 17s 617us/step - loss: 0.0555 - acc: 0.9820 - val_loss: 0.0533 - val_acc: 0.9842\n",
      "Epoch 114/150\n",
      "26880/26880 [==============================] - 17s 624us/step - loss: 0.0557 - acc: 0.9820 - val_loss: 0.0527 - val_acc: 0.9841\n"
     ]
    },
    {
     "name": "stdout",
     "output_type": "stream",
     "text": [
      "Epoch 115/150\n",
      "26880/26880 [==============================] - 16s 604us/step - loss: 0.0576 - acc: 0.9810 - val_loss: 0.0525 - val_acc: 0.9838\n",
      "Epoch 116/150\n",
      "26880/26880 [==============================] - 17s 640us/step - loss: 0.0560 - acc: 0.9820 - val_loss: 0.0524 - val_acc: 0.9841\n",
      "Epoch 117/150\n",
      "26880/26880 [==============================] - 16s 610us/step - loss: 0.0561 - acc: 0.9822 - val_loss: 0.0518 - val_acc: 0.9842\n",
      "Epoch 118/150\n",
      "26880/26880 [==============================] - 18s 665us/step - loss: 0.0550 - acc: 0.9818 - val_loss: 0.0521 - val_acc: 0.9842\n",
      "Epoch 119/150\n",
      "26880/26880 [==============================] - 17s 617us/step - loss: 0.0537 - acc: 0.9828 - val_loss: 0.0512 - val_acc: 0.9847\n",
      "Epoch 120/150\n",
      "26880/26880 [==============================] - 16s 598us/step - loss: 0.0551 - acc: 0.9822 - val_loss: 0.0510 - val_acc: 0.9842\n",
      "Epoch 121/150\n",
      "26880/26880 [==============================] - 17s 624us/step - loss: 0.0541 - acc: 0.9824 - val_loss: 0.0513 - val_acc: 0.9848\n",
      "Epoch 122/150\n",
      "26880/26880 [==============================] - 16s 578us/step - loss: 0.0523 - acc: 0.9837 - val_loss: 0.0521 - val_acc: 0.9841\n",
      "Epoch 123/150\n",
      "26880/26880 [==============================] - 15s 558us/step - loss: 0.0538 - acc: 0.9825 - val_loss: 0.0505 - val_acc: 0.9851\n",
      "Epoch 124/150\n",
      "26880/26880 [==============================] - 17s 616us/step - loss: 0.0524 - acc: 0.9827 - val_loss: 0.0505 - val_acc: 0.9853\n",
      "Epoch 125/150\n",
      "26880/26880 [==============================] - 18s 668us/step - loss: 0.0522 - acc: 0.9835 - val_loss: 0.0508 - val_acc: 0.9853\n",
      "Epoch 126/150\n",
      "26880/26880 [==============================] - 18s 673us/step - loss: 0.0518 - acc: 0.9842 - val_loss: 0.0506 - val_acc: 0.9850\n",
      "Epoch 127/150\n",
      "26880/26880 [==============================] - 17s 619us/step - loss: 0.0529 - acc: 0.9829 - val_loss: 0.0512 - val_acc: 0.9847\n",
      "Epoch 128/150\n",
      "26880/26880 [==============================] - 16s 596us/step - loss: 0.0521 - acc: 0.9830 - val_loss: 0.0503 - val_acc: 0.9847\n",
      "Epoch 129/150\n",
      "26880/26880 [==============================] - 17s 642us/step - loss: 0.0496 - acc: 0.9838 - val_loss: 0.0494 - val_acc: 0.9853\n",
      "Epoch 130/150\n",
      "26880/26880 [==============================] - 18s 654us/step - loss: 0.0518 - acc: 0.9826 - val_loss: 0.0500 - val_acc: 0.9853\n",
      "Epoch 131/150\n",
      "26880/26880 [==============================] - 17s 630us/step - loss: 0.0494 - acc: 0.9839 - val_loss: 0.0496 - val_acc: 0.9850\n",
      "Epoch 132/150\n",
      "26880/26880 [==============================] - 16s 585us/step - loss: 0.0488 - acc: 0.9842 - val_loss: 0.0511 - val_acc: 0.9844\n",
      "Epoch 133/150\n",
      "26880/26880 [==============================] - 19s 699us/step - loss: 0.0502 - acc: 0.9840 - val_loss: 0.0499 - val_acc: 0.9847\n",
      "Epoch 134/150\n",
      "26880/26880 [==============================] - 18s 669us/step - loss: 0.0500 - acc: 0.9837 - val_loss: 0.0486 - val_acc: 0.9857\n",
      "Epoch 135/150\n",
      "26880/26880 [==============================] - 16s 610us/step - loss: 0.0484 - acc: 0.9840 - val_loss: 0.0488 - val_acc: 0.9857\n",
      "Epoch 136/150\n",
      "26880/26880 [==============================] - 17s 639us/step - loss: 0.0489 - acc: 0.9836 - val_loss: 0.0482 - val_acc: 0.9851\n",
      "Epoch 137/150\n",
      "26880/26880 [==============================] - 17s 621us/step - loss: 0.0484 - acc: 0.9840 - val_loss: 0.0487 - val_acc: 0.9859\n",
      "Epoch 138/150\n",
      "26880/26880 [==============================] - 16s 601us/step - loss: 0.0470 - acc: 0.9849 - val_loss: 0.0489 - val_acc: 0.9862\n",
      "Epoch 139/150\n",
      "26880/26880 [==============================] - 16s 611us/step - loss: 0.0487 - acc: 0.9846 - val_loss: 0.0485 - val_acc: 0.9854\n",
      "Epoch 140/150\n",
      "26880/26880 [==============================] - 16s 613us/step - loss: 0.0470 - acc: 0.9850 - val_loss: 0.0481 - val_acc: 0.9851\n",
      "Epoch 141/150\n",
      "26880/26880 [==============================] - 16s 581us/step - loss: 0.0465 - acc: 0.9853 - val_loss: 0.0475 - val_acc: 0.9859\n",
      "Epoch 142/150\n",
      "26880/26880 [==============================] - 15s 574us/step - loss: 0.0466 - acc: 0.9858 - val_loss: 0.0472 - val_acc: 0.9862\n",
      "Epoch 143/150\n",
      "26880/26880 [==============================] - 18s 665us/step - loss: 0.0477 - acc: 0.9847 - val_loss: 0.0477 - val_acc: 0.9859\n",
      "Epoch 144/150\n",
      "26880/26880 [==============================] - 17s 623us/step - loss: 0.0472 - acc: 0.9846 - val_loss: 0.0478 - val_acc: 0.9859\n",
      "Epoch 145/150\n",
      "26880/26880 [==============================] - 17s 631us/step - loss: 0.0465 - acc: 0.9852 - val_loss: 0.0472 - val_acc: 0.9856\n",
      "Epoch 146/150\n",
      "26880/26880 [==============================] - 16s 581us/step - loss: 0.0482 - acc: 0.9842 - val_loss: 0.0472 - val_acc: 0.9865\n",
      "Epoch 147/150\n",
      "26880/26880 [==============================] - 15s 572us/step - loss: 0.0458 - acc: 0.9857 - val_loss: 0.0474 - val_acc: 0.9862\n",
      "\n",
      "Epoch 00147: ReduceLROnPlateau reducing learning rate to 0.0009999999776482583.\n",
      "Epoch 148/150\n",
      "26880/26880 [==============================] - 19s 694us/step - loss: 0.0462 - acc: 0.9840 - val_loss: 0.0470 - val_acc: 0.9865\n",
      "Epoch 149/150\n",
      "26880/26880 [==============================] - 18s 663us/step - loss: 0.0446 - acc: 0.9861 - val_loss: 0.0467 - val_acc: 0.9863\n",
      "Epoch 150/150\n",
      "26880/26880 [==============================] - 17s 621us/step - loss: 0.0455 - acc: 0.9861 - val_loss: 0.0467 - val_acc: 0.9865\n"
     ]
    }
   ],
   "source": [
    "hist = model.fit(X_train, Y_train, batch_size = batch_size, epochs = nb_epoch, verbose = 1, validation_split = 0.2, shuffle = True, callbacks = [ReducedLR, early_stop])"
   ]
  },
  {
   "cell_type": "code",
   "execution_count": 17,
   "metadata": {},
   "outputs": [
    {
     "data": {
      "text/plain": [
       "<matplotlib.legend.Legend at 0x1f082c36128>"
      ]
     },
     "execution_count": 17,
     "metadata": {},
     "output_type": "execute_result"
    },
    {
     "data": {
      "image/png": "[encoded data removed]",
      "text/plain": [
       "<Figure size 576x576 with 1 Axes>"
      ]
     },
     "metadata": {},
     "output_type": "display_data"
    }
   ],
   "source": [
    "train_loss = hist.history['loss']\n",
    "val_loss = hist.history['val_loss'] \n",
    "train_acc = hist.history['acc']\n",
    "val_acc = hist.history['val_acc']\n",
    "\n",
    "plt.figure(figsize=(8, 8))\n",
    "plt.title(\"Learning curve\")\n",
    "plt.plot(hist.history[\"loss\"], label=\"loss\")\n",
    "plt.plot(hist.history[\"val_loss\"], label=\"val_loss\")\n",
    "plt.plot( np.argmin(hist.history[\"val_loss\"]), np.min(hist.history[\"val_loss\"]), marker=\"x\", color=\"r\", label=\"best model\")\n",
    "plt.xlabel(\"Epochs\")\n",
    "plt.ylabel(\"loss\")\n",
    "plt.legend()"
   ]
  },
  {
   "cell_type": "code",
   "execution_count": 18,
   "metadata": {},
   "outputs": [
    {
     "name": "stdout",
     "output_type": "stream",
     "text": [
      "Test loss: 0.05272779184038795 Accuracy: 0.9845238095238096\n"
     ]
    }
   ],
   "source": [
    "# Find test loss and accuracy\n",
    "score = model.evaluate(X_test, Y_test, verbose=0) # accuracy check\n",
    "print('Test loss:', score[0], 'Accuracy:', score[1]) "
   ]
  },
  {
   "cell_type": "code",
   "execution_count": 19,
   "metadata": {},
   "outputs": [],
   "source": [
    "# Testing\n",
    "test_data = np.genfromtxt('test.csv', delimiter = ',')\n",
    "test_data = test_data[1:]"
   ]
  },
  {
   "cell_type": "code",
   "execution_count": 20,
   "metadata": {},
   "outputs": [
    {
     "name": "stdout",
     "output_type": "stream",
     "text": [
      "[[0. 0. 0. ... 0. 0. 0.]\n",
      " [0. 0. 0. ... 0. 0. 0.]\n",
      " [0. 0. 0. ... 0. 0. 0.]\n",
      " ...\n",
      " [0. 0. 0. ... 0. 0. 0.]\n",
      " [0. 0. 0. ... 0. 0. 0.]\n",
      " [0. 0. 0. ... 0. 0. 0.]]\n"
     ]
    }
   ],
   "source": [
    "print(test_data)"
   ]
  },
  {
   "cell_type": "code",
   "execution_count": 21,
   "metadata": {},
   "outputs": [],
   "source": [
    "test_data = test_data.reshape(test_data.shape[0], img_rows, img_cols, 1) \n",
    "test_data = test_data.astype('float32')\n",
    "\n",
    "test_data /= 255"
   ]
  },
  {
   "cell_type": "code",
   "execution_count": 22,
   "metadata": {},
   "outputs": [
    {
     "name": "stdout",
     "output_type": "stream",
     "text": [
      "[2 0 9 ... 3 9 2]\n"
     ]
    }
   ],
   "source": [
    "predictions = model.predict_classes(test_data)\n",
    "print(predictions)"
   ]
  },
  {
   "cell_type": "code",
   "execution_count": 23,
   "metadata": {},
   "outputs": [],
   "source": [
    "output=pd.DataFrame({\"ImageId\": list(range(1,len(predictions)+1)), \"Label\": predictions})\n",
    "output.to_csv(\"submission.csv\", index=False, header=True)"
   ]
  }
 ],
 "metadata": {
  "kernelspec": {
   "display_name": "Python 3",
   "language": "python",
   "name": "python3"
  },
  "language_info": {
   "codemirror_mode": {
    "name": "ipython",
    "version": 3
   },
   "file_extension": ".py",
   "mimetype": "text/x-python",
   "name": "python",
   "nbconvert_exporter": "python",
   "pygments_lexer": "ipython3",
   "version": "3.6.5"
  }
 },
 "nbformat": 4,
 "nbformat_minor": 2
}
