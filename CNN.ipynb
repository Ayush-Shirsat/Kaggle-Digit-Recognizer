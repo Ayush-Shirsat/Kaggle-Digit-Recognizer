{
 "cells": [
  {
   "cell_type": "code",
   "execution_count": 3,
   "metadata": {},
   "outputs": [],
   "source": [
    "import numpy as np\n",
    "import os\n",
    "import matplotlib.pyplot as plt\n",
    "import pandas as pd\n",
    "from sklearn.model_selection import train_test_split\n",
    "\n",
    "import tensorflow as tf\n",
    "from keras.models import Sequential\n",
    "from keras.layers.core import Dense, Dropout, Activation, Flatten\n",
    "from keras.layers.convolutional import Conv2D, MaxPooling2D\n",
    "from keras.optimizers import SGD,RMSprop,adam\n",
    "from keras.utils import to_categorical\n",
    "from keras.models import model_from_json"
   ]
  },
  {
   "cell_type": "code",
   "execution_count": 4,
   "metadata": {},
   "outputs": [],
   "source": [
    "# Loading data\n",
    "data = np.genfromtxt('train.csv', delimiter=',')\n",
    "data = data[1:]"
   ]
  },
  {
   "cell_type": "code",
   "execution_count": 5,
   "metadata": {},
   "outputs": [
    {
     "name": "stdout",
     "output_type": "stream",
     "text": [
      "(42000,) (42000, 784)\n"
     ]
    }
   ],
   "source": [
    "# sorting data in Y and X\n",
    "Y = data[0: ,0]\n",
    "X = data[0: ,1: ]\n",
    "print(Y.shape, X.shape)"
   ]
  },
  {
   "cell_type": "code",
   "execution_count": 11,
   "metadata": {},
   "outputs": [],
   "source": [
    "# Define image dimensions\n",
    "img_rows = 28\n",
    "img_cols = 28\n",
    "channel = 1\n",
    "\n",
    "# Define model parameters\n",
    "nb_classes = 10\n",
    "\n",
    "#batch_size to train\n",
    "batch_size = 256\n",
    "\n",
    "# number of output classes\n",
    "nb_classes = 10\n",
    "\n",
    "# number of epochs to train\n",
    "nb_epoch = 100\n",
    "\n",
    "# number of convolutional filters to use\n",
    "nb_filters_1 = 20\n",
    "nb_filters_2 = 50\n",
    "\n",
    "# size of pooling area for max pooling\n",
    "nb_pool = 2\n",
    "\n",
    "# convolution kernel size\n",
    "nb_conv = 5"
   ]
  },
  {
   "cell_type": "code",
   "execution_count": 12,
   "metadata": {},
   "outputs": [],
   "source": [
    "# Train-test split\n",
    "X_train, X_test, Y_train, Y_test = train_test_split(X, Y, test_size=0.2, random_state = 4)"
   ]
  },
  {
   "cell_type": "code",
   "execution_count": 13,
   "metadata": {},
   "outputs": [
    {
     "name": "stdout",
     "output_type": "stream",
     "text": [
      "(33600, 28, 28, 1) (33600, 10) (8400, 28, 28, 1) (8400, 10)\n"
     ]
    }
   ],
   "source": [
    "# Using correct dimesntions for input data\n",
    "X_train = X_train.reshape(X_train.shape[0], img_rows, img_cols, 1)\n",
    "X_test = X_test.reshape(X_test.shape[0], img_rows, img_cols, 1)\n",
    "\n",
    "# Assigning X_train and X_test as float\n",
    "X_train = X_train.astype('float32') \n",
    "X_test = X_test.astype('float32')\n",
    "\n",
    "X_train /= 255\n",
    "X_test /= 255\n",
    "\n",
    "# Convert class vectors to binary class matrices\n",
    "Y_train = to_categorical(Y_train, nb_classes)\n",
    "Y_test = to_categorical(Y_test, nb_classes)\n",
    "\n",
    "print(X_train.shape, Y_train.shape, X_test.shape, Y_test.shape)"
   ]
  },
  {
   "cell_type": "code",
   "execution_count": 15,
   "metadata": {},
   "outputs": [
    {
     "name": "stdout",
     "output_type": "stream",
     "text": [
      "WARNING:tensorflow:From C:\\Users\\Ayush Shirsat\\Anaconda3\\lib\\site-packages\\tensorflow\\python\\framework\\op_def_library.py:263: colocate_with (from tensorflow.python.framework.ops) is deprecated and will be removed in a future version.\n",
      "Instructions for updating:\n",
      "Colocations handled automatically by placer.\n"
     ]
    }
   ],
   "source": [
    "# Implementing LeNet-5\n",
    "model = Sequential()\n",
    "\n",
    "model.add(Conv2D(nb_filters_1, kernel_size = (nb_conv, nb_conv), activation='relu', input_shape=(img_rows, img_cols, 1)))\n",
    "model.add(MaxPooling2D(pool_size = (nb_pool, nb_pool), strides = (2, 2)))\n",
    "\n",
    "model.add(Conv2D(nb_filters_2, kernel_size = (nb_conv, nb_conv), activation='relu'))\n",
    "model.add(MaxPooling2D(pool_size = (nb_pool, nb_pool), strides = (2, 2)))\n",
    "\n",
    "model.add(Flatten())\n",
    "model.add(Dense(500, activation='relu'))\n",
    "\n",
    "model.add(Dense(nb_classes, activation='softmax'))"
   ]
  },
  {
   "cell_type": "code",
   "execution_count": 16,
   "metadata": {},
   "outputs": [],
   "source": [
    "# Optimizer used is Stochastic Gradient Descent with learning rate of 0.01\n",
    "# Loss is calculated using categorical cross entropy\n",
    "opt = SGD(lr = 0.01)\n",
    "model.compile(loss='categorical_crossentropy', optimizer = opt, metrics = ['accuracy'])"
   ]
  },
  {
   "cell_type": "code",
   "execution_count": 17,
   "metadata": {},
   "outputs": [
    {
     "name": "stdout",
     "output_type": "stream",
     "text": [
      "WARNING:tensorflow:From C:\\Users\\Ayush Shirsat\\Anaconda3\\lib\\site-packages\\tensorflow\\python\\ops\\math_ops.py:3066: to_int32 (from tensorflow.python.ops.math_ops) is deprecated and will be removed in a future version.\n",
      "Instructions for updating:\n",
      "Use tf.cast instead.\n",
      "Train on 26880 samples, validate on 6720 samples\n",
      "Epoch 1/100\n",
      "26880/26880 [==============================] - 13s 498us/step - loss: 2.2167 - acc: 0.3816 - val_loss: 2.0427 - val_acc: 0.6086\n",
      "Epoch 2/100\n",
      "26880/26880 [==============================] - 13s 477us/step - loss: 1.3983 - acc: 0.7451 - val_loss: 0.7331 - val_acc: 0.8269\n",
      "Epoch 3/100\n",
      "26880/26880 [==============================] - 13s 483us/step - loss: 0.5492 - acc: 0.8530 - val_loss: 0.4242 - val_acc: 0.8804\n",
      "Epoch 4/100\n",
      "26880/26880 [==============================] - 13s 502us/step - loss: 0.3820 - acc: 0.8891 - val_loss: 0.3406 - val_acc: 0.9019\n",
      "Epoch 5/100\n",
      "26880/26880 [==============================] - 13s 499us/step - loss: 0.3202 - acc: 0.9065 - val_loss: 0.3067 - val_acc: 0.9116\n",
      "Epoch 6/100\n",
      "26880/26880 [==============================] - 14s 527us/step - loss: 0.2777 - acc: 0.9185 - val_loss: 0.2719 - val_acc: 0.9202\n",
      "Epoch 7/100\n",
      "26880/26880 [==============================] - 15s 570us/step - loss: 0.2491 - acc: 0.9261 - val_loss: 0.2619 - val_acc: 0.9226\n",
      "Epoch 8/100\n",
      "26880/26880 [==============================] - 13s 499us/step - loss: 0.2268 - acc: 0.9327 - val_loss: 0.2243 - val_acc: 0.9335\n",
      "Epoch 9/100\n",
      "26880/26880 [==============================] - 13s 493us/step - loss: 0.2086 - acc: 0.9378 - val_loss: 0.2047 - val_acc: 0.9382\n",
      "Epoch 10/100\n",
      "26880/26880 [==============================] - 13s 491us/step - loss: 0.1923 - acc: 0.9432 - val_loss: 0.1962 - val_acc: 0.9397\n",
      "Epoch 11/100\n",
      "26880/26880 [==============================] - 13s 487us/step - loss: 0.1807 - acc: 0.9458 - val_loss: 0.1868 - val_acc: 0.9452\n",
      "Epoch 12/100\n",
      "26880/26880 [==============================] - 13s 493us/step - loss: 0.1681 - acc: 0.9505 - val_loss: 0.1716 - val_acc: 0.9475\n",
      "Epoch 13/100\n",
      "26880/26880 [==============================] - 13s 484us/step - loss: 0.1588 - acc: 0.9524 - val_loss: 0.1646 - val_acc: 0.9501\n",
      "Epoch 14/100\n",
      "26880/26880 [==============================] - 13s 478us/step - loss: 0.1476 - acc: 0.9562 - val_loss: 0.1614 - val_acc: 0.9501\n",
      "Epoch 15/100\n",
      "26880/26880 [==============================] - 13s 475us/step - loss: 0.1419 - acc: 0.9581 - val_loss: 0.1474 - val_acc: 0.9574\n",
      "Epoch 16/100\n",
      "26880/26880 [==============================] - 13s 477us/step - loss: 0.1333 - acc: 0.9602 - val_loss: 0.1564 - val_acc: 0.9521\n",
      "Epoch 17/100\n",
      "26880/26880 [==============================] - 13s 490us/step - loss: 0.1267 - acc: 0.9627 - val_loss: 0.1333 - val_acc: 0.9609\n",
      "Epoch 18/100\n",
      "26880/26880 [==============================] - 13s 501us/step - loss: 0.1202 - acc: 0.9651 - val_loss: 0.1342 - val_acc: 0.9603\n",
      "Epoch 19/100\n",
      "26880/26880 [==============================] - 13s 492us/step - loss: 0.1164 - acc: 0.9651 - val_loss: 0.1252 - val_acc: 0.9624\n",
      "Epoch 20/100\n",
      "26880/26880 [==============================] - 13s 482us/step - loss: 0.1114 - acc: 0.9666 - val_loss: 0.1309 - val_acc: 0.9585\n",
      "Epoch 21/100\n",
      "26880/26880 [==============================] - 13s 477us/step - loss: 0.1068 - acc: 0.9682 - val_loss: 0.1199 - val_acc: 0.9637\n",
      "Epoch 22/100\n",
      "26880/26880 [==============================] - 13s 488us/step - loss: 0.1028 - acc: 0.9696 - val_loss: 0.1168 - val_acc: 0.9646\n",
      "Epoch 23/100\n",
      "26880/26880 [==============================] - 13s 488us/step - loss: 0.0990 - acc: 0.9709 - val_loss: 0.1126 - val_acc: 0.9680\n",
      "Epoch 24/100\n",
      "26880/26880 [==============================] - 13s 479us/step - loss: 0.0968 - acc: 0.9709 - val_loss: 0.1074 - val_acc: 0.9673\n",
      "Epoch 25/100\n",
      "26880/26880 [==============================] - 13s 481us/step - loss: 0.0935 - acc: 0.9721 - val_loss: 0.1052 - val_acc: 0.9688\n",
      "Epoch 26/100\n",
      "26880/26880 [==============================] - 13s 481us/step - loss: 0.0894 - acc: 0.9740 - val_loss: 0.1050 - val_acc: 0.9693\n",
      "Epoch 27/100\n",
      "26880/26880 [==============================] - 13s 481us/step - loss: 0.0864 - acc: 0.9747 - val_loss: 0.1003 - val_acc: 0.9689\n",
      "Epoch 28/100\n",
      "26880/26880 [==============================] - 13s 481us/step - loss: 0.0844 - acc: 0.9752 - val_loss: 0.1057 - val_acc: 0.9701\n",
      "Epoch 29/100\n",
      "26880/26880 [==============================] - 13s 487us/step - loss: 0.0819 - acc: 0.9751 - val_loss: 0.1015 - val_acc: 0.9685\n",
      "Epoch 30/100\n",
      "26880/26880 [==============================] - 13s 488us/step - loss: 0.0795 - acc: 0.9762 - val_loss: 0.1008 - val_acc: 0.9701\n",
      "Epoch 31/100\n",
      "26880/26880 [==============================] - 13s 491us/step - loss: 0.0779 - acc: 0.9768 - val_loss: 0.0935 - val_acc: 0.9728\n",
      "Epoch 32/100\n",
      "26880/26880 [==============================] - 14s 522us/step - loss: 0.0753 - acc: 0.9772 - val_loss: 0.0942 - val_acc: 0.9704\n",
      "Epoch 33/100\n",
      "26880/26880 [==============================] - 15s 563us/step - loss: 0.0729 - acc: 0.9786 - val_loss: 0.0918 - val_acc: 0.9717\n",
      "Epoch 34/100\n",
      "26880/26880 [==============================] - 14s 525us/step - loss: 0.0710 - acc: 0.9794 - val_loss: 0.0900 - val_acc: 0.9728\n",
      "Epoch 35/100\n",
      "26880/26880 [==============================] - 15s 549us/step - loss: 0.0695 - acc: 0.9799 - val_loss: 0.0868 - val_acc: 0.9746\n",
      "Epoch 36/100\n",
      "26880/26880 [==============================] - 14s 531us/step - loss: 0.0679 - acc: 0.9798 - val_loss: 0.0843 - val_acc: 0.9741\n",
      "Epoch 37/100\n",
      "26880/26880 [==============================] - 14s 513us/step - loss: 0.0660 - acc: 0.9802 - val_loss: 0.0857 - val_acc: 0.9726\n",
      "Epoch 38/100\n",
      "26880/26880 [==============================] - 14s 505us/step - loss: 0.0649 - acc: 0.9804 - val_loss: 0.0840 - val_acc: 0.9734\n",
      "Epoch 39/100\n",
      "26880/26880 [==============================] - 13s 494us/step - loss: 0.0632 - acc: 0.9811 - val_loss: 0.0827 - val_acc: 0.9738\n",
      "Epoch 40/100\n",
      "26880/26880 [==============================] - 14s 520us/step - loss: 0.0615 - acc: 0.9823 - val_loss: 0.0815 - val_acc: 0.9729\n",
      "Epoch 41/100\n",
      "26880/26880 [==============================] - 15s 556us/step - loss: 0.0605 - acc: 0.9822 - val_loss: 0.0809 - val_acc: 0.9732\n",
      "Epoch 42/100\n",
      "26880/26880 [==============================] - 16s 600us/step - loss: 0.0591 - acc: 0.9825 - val_loss: 0.0805 - val_acc: 0.9756\n",
      "Epoch 43/100\n",
      "26880/26880 [==============================] - 15s 547us/step - loss: 0.0583 - acc: 0.9824 - val_loss: 0.0773 - val_acc: 0.9768\n",
      "Epoch 44/100\n",
      "26880/26880 [==============================] - 14s 521us/step - loss: 0.0561 - acc: 0.9837 - val_loss: 0.0826 - val_acc: 0.9757\n",
      "Epoch 45/100\n",
      "26880/26880 [==============================] - 14s 524us/step - loss: 0.0546 - acc: 0.9839 - val_loss: 0.0803 - val_acc: 0.9729\n",
      "Epoch 46/100\n",
      "26880/26880 [==============================] - 14s 537us/step - loss: 0.0543 - acc: 0.9844 - val_loss: 0.0794 - val_acc: 0.9766\n",
      "Epoch 47/100\n",
      "26880/26880 [==============================] - 15s 565us/step - loss: 0.0533 - acc: 0.9842 - val_loss: 0.0737 - val_acc: 0.9790\n",
      "Epoch 48/100\n",
      "26880/26880 [==============================] - 15s 545us/step - loss: 0.0520 - acc: 0.9851 - val_loss: 0.0743 - val_acc: 0.9780\n",
      "Epoch 49/100\n",
      "26880/26880 [==============================] - 15s 548us/step - loss: 0.0508 - acc: 0.9855 - val_loss: 0.0746 - val_acc: 0.9777\n",
      "Epoch 50/100\n",
      "26880/26880 [==============================] - 15s 574us/step - loss: 0.0496 - acc: 0.9855 - val_loss: 0.0710 - val_acc: 0.9787\n",
      "Epoch 51/100\n",
      "26880/26880 [==============================] - 16s 577us/step - loss: 0.0489 - acc: 0.9856 - val_loss: 0.0727 - val_acc: 0.9777\n",
      "Epoch 52/100\n",
      "26880/26880 [==============================] - 15s 565us/step - loss: 0.0481 - acc: 0.9862 - val_loss: 0.0724 - val_acc: 0.9789\n",
      "Epoch 53/100\n",
      "26880/26880 [==============================] - 15s 552us/step - loss: 0.0473 - acc: 0.9865 - val_loss: 0.0753 - val_acc: 0.9765\n",
      "Epoch 54/100\n",
      "26880/26880 [==============================] - 15s 550us/step - loss: 0.0473 - acc: 0.9859 - val_loss: 0.0723 - val_acc: 0.9790\n",
      "Epoch 55/100\n",
      "26880/26880 [==============================] - 15s 549us/step - loss: 0.0458 - acc: 0.9866 - val_loss: 0.0707 - val_acc: 0.9775\n",
      "Epoch 56/100\n",
      "26880/26880 [==============================] - 15s 555us/step - loss: 0.0453 - acc: 0.9868 - val_loss: 0.0742 - val_acc: 0.9778\n"
     ]
    },
    {
     "name": "stdout",
     "output_type": "stream",
     "text": [
      "Epoch 57/100\n",
      "26880/26880 [==============================] - 14s 537us/step - loss: 0.0442 - acc: 0.9875 - val_loss: 0.0771 - val_acc: 0.9766\n",
      "Epoch 58/100\n",
      "26880/26880 [==============================] - 14s 535us/step - loss: 0.0433 - acc: 0.9883 - val_loss: 0.0709 - val_acc: 0.9786\n",
      "Epoch 59/100\n",
      "26880/26880 [==============================] - 14s 537us/step - loss: 0.0422 - acc: 0.9886 - val_loss: 0.0724 - val_acc: 0.9754\n",
      "Epoch 60/100\n",
      "26880/26880 [==============================] - 14s 537us/step - loss: 0.0412 - acc: 0.9889 - val_loss: 0.0661 - val_acc: 0.9790\n",
      "Epoch 61/100\n",
      "26880/26880 [==============================] - 14s 539us/step - loss: 0.0412 - acc: 0.9885 - val_loss: 0.0694 - val_acc: 0.9786\n",
      "Epoch 62/100\n",
      "26880/26880 [==============================] - 14s 533us/step - loss: 0.0409 - acc: 0.9880 - val_loss: 0.0724 - val_acc: 0.9795\n",
      "Epoch 63/100\n",
      "26880/26880 [==============================] - 14s 534us/step - loss: 0.0399 - acc: 0.9883 - val_loss: 0.0653 - val_acc: 0.9793\n",
      "Epoch 64/100\n",
      "26880/26880 [==============================] - 14s 535us/step - loss: 0.0393 - acc: 0.9891 - val_loss: 0.0647 - val_acc: 0.9790\n",
      "Epoch 65/100\n",
      "26880/26880 [==============================] - 15s 555us/step - loss: 0.0390 - acc: 0.9892 - val_loss: 0.0661 - val_acc: 0.9801\n",
      "Epoch 66/100\n",
      "26880/26880 [==============================] - 15s 541us/step - loss: 0.0375 - acc: 0.9897 - val_loss: 0.0640 - val_acc: 0.9802\n",
      "Epoch 67/100\n",
      "26880/26880 [==============================] - 16s 591us/step - loss: 0.0368 - acc: 0.9898 - val_loss: 0.0717 - val_acc: 0.9780\n",
      "Epoch 68/100\n",
      "26880/26880 [==============================] - 15s 573us/step - loss: 0.0364 - acc: 0.9898 - val_loss: 0.0651 - val_acc: 0.9805\n",
      "Epoch 69/100\n",
      "26880/26880 [==============================] - 17s 616us/step - loss: 0.0363 - acc: 0.9902 - val_loss: 0.0655 - val_acc: 0.9796\n",
      "Epoch 70/100\n",
      "26880/26880 [==============================] - 15s 549us/step - loss: 0.0355 - acc: 0.9906 - val_loss: 0.0657 - val_acc: 0.9807\n",
      "Epoch 71/100\n",
      "26880/26880 [==============================] - 15s 541us/step - loss: 0.0357 - acc: 0.9900 - val_loss: 0.0703 - val_acc: 0.9781\n",
      "Epoch 72/100\n",
      "26880/26880 [==============================] - 16s 585us/step - loss: 0.0347 - acc: 0.9904 - val_loss: 0.0639 - val_acc: 0.9799\n",
      "Epoch 73/100\n",
      "26880/26880 [==============================] - 14s 530us/step - loss: 0.0338 - acc: 0.9907 - val_loss: 0.0670 - val_acc: 0.9799\n",
      "Epoch 74/100\n",
      "26880/26880 [==============================] - 15s 561us/step - loss: 0.0338 - acc: 0.9908 - val_loss: 0.0669 - val_acc: 0.9792\n",
      "Epoch 75/100\n",
      "26880/26880 [==============================] - 14s 538us/step - loss: 0.0334 - acc: 0.9908 - val_loss: 0.0620 - val_acc: 0.9802\n",
      "Epoch 76/100\n",
      "26880/26880 [==============================] - 14s 538us/step - loss: 0.0326 - acc: 0.9910 - val_loss: 0.0622 - val_acc: 0.9811\n",
      "Epoch 77/100\n",
      "26880/26880 [==============================] - 15s 556us/step - loss: 0.0320 - acc: 0.9916 - val_loss: 0.0622 - val_acc: 0.9827\n",
      "Epoch 78/100\n",
      "26880/26880 [==============================] - 15s 549us/step - loss: 0.0317 - acc: 0.9916 - val_loss: 0.0635 - val_acc: 0.9811\n",
      "Epoch 79/100\n",
      "26880/26880 [==============================] - 15s 557us/step - loss: 0.0318 - acc: 0.9910 - val_loss: 0.0621 - val_acc: 0.9805\n",
      "Epoch 80/100\n",
      "26880/26880 [==============================] - 14s 516us/step - loss: 0.0309 - acc: 0.9923 - val_loss: 0.0614 - val_acc: 0.9804\n",
      "Epoch 81/100\n",
      "26880/26880 [==============================] - 15s 549us/step - loss: 0.0303 - acc: 0.9921 - val_loss: 0.0611 - val_acc: 0.9812\n",
      "Epoch 82/100\n",
      "26880/26880 [==============================] - 14s 538us/step - loss: 0.0299 - acc: 0.9920 - val_loss: 0.0638 - val_acc: 0.9808\n",
      "Epoch 83/100\n",
      "26880/26880 [==============================] - 15s 554us/step - loss: 0.0293 - acc: 0.9922 - val_loss: 0.0610 - val_acc: 0.9812\n",
      "Epoch 84/100\n",
      "26880/26880 [==============================] - 15s 566us/step - loss: 0.0287 - acc: 0.9930 - val_loss: 0.0607 - val_acc: 0.9817\n",
      "Epoch 85/100\n",
      "26880/26880 [==============================] - 14s 531us/step - loss: 0.0288 - acc: 0.9925 - val_loss: 0.0614 - val_acc: 0.9821\n",
      "Epoch 86/100\n",
      "26880/26880 [==============================] - 15s 567us/step - loss: 0.0284 - acc: 0.9924 - val_loss: 0.0604 - val_acc: 0.9821\n",
      "Epoch 87/100\n",
      "26880/26880 [==============================] - 15s 542us/step - loss: 0.0282 - acc: 0.9928 - val_loss: 0.0607 - val_acc: 0.9826\n",
      "Epoch 88/100\n",
      "26880/26880 [==============================] - 15s 562us/step - loss: 0.0271 - acc: 0.9927 - val_loss: 0.0597 - val_acc: 0.9827\n",
      "Epoch 89/100\n",
      "26880/26880 [==============================] - 15s 573us/step - loss: 0.0270 - acc: 0.9931 - val_loss: 0.0598 - val_acc: 0.9824\n",
      "Epoch 90/100\n",
      "26880/26880 [==============================] - 15s 557us/step - loss: 0.0267 - acc: 0.9936 - val_loss: 0.0597 - val_acc: 0.9815\n",
      "Epoch 91/100\n",
      "26880/26880 [==============================] - 14s 532us/step - loss: 0.0266 - acc: 0.9930 - val_loss: 0.0625 - val_acc: 0.9817\n",
      "Epoch 92/100\n",
      "26880/26880 [==============================] - 15s 557us/step - loss: 0.0261 - acc: 0.9933 - val_loss: 0.0606 - val_acc: 0.9817\n",
      "Epoch 93/100\n",
      "26880/26880 [==============================] - 15s 570us/step - loss: 0.0250 - acc: 0.9941 - val_loss: 0.0602 - val_acc: 0.9815\n",
      "Epoch 94/100\n",
      "26880/26880 [==============================] - 15s 572us/step - loss: 0.0254 - acc: 0.9934 - val_loss: 0.0580 - val_acc: 0.9823\n",
      "Epoch 95/100\n",
      "26880/26880 [==============================] - 15s 570us/step - loss: 0.0251 - acc: 0.9940 - val_loss: 0.0629 - val_acc: 0.9812\n",
      "Epoch 96/100\n",
      "26880/26880 [==============================] - 14s 531us/step - loss: 0.0244 - acc: 0.9941 - val_loss: 0.0589 - val_acc: 0.9824\n",
      "Epoch 97/100\n",
      "26880/26880 [==============================] - 15s 572us/step - loss: 0.0239 - acc: 0.9942 - val_loss: 0.0624 - val_acc: 0.9795\n",
      "Epoch 98/100\n",
      "26880/26880 [==============================] - 14s 536us/step - loss: 0.0239 - acc: 0.9942 - val_loss: 0.0639 - val_acc: 0.9810\n",
      "Epoch 99/100\n",
      "26880/26880 [==============================] - 14s 533us/step - loss: 0.0236 - acc: 0.9945 - val_loss: 0.0597 - val_acc: 0.9827\n",
      "Epoch 100/100\n",
      "26880/26880 [==============================] - 15s 556us/step - loss: 0.0236 - acc: 0.9940 - val_loss: 0.0584 - val_acc: 0.9836\n"
     ]
    }
   ],
   "source": [
    "hist = model.fit(X_train, Y_train, batch_size = batch_size, epochs = nb_epoch, verbose = 1, validation_split = 0.2, shuffle = True)"
   ]
  },
  {
   "cell_type": "code",
   "execution_count": 18,
   "metadata": {},
   "outputs": [
    {
     "data": {
      "text/plain": [
       "<matplotlib.legend.Legend at 0x1ea312d6ac8>"
      ]
     },
     "execution_count": 18,
     "metadata": {},
     "output_type": "execute_result"
    },
    {
     "data": {
      "image/png": "[encoded data removed]",
      "text/plain": [
       "<Figure size 576x576 with 1 Axes>"
      ]
     },
     "metadata": {},
     "output_type": "display_data"
    }
   ],
   "source": [
    "train_loss = hist.history['loss']\n",
    "val_loss = hist.history['val_loss'] \n",
    "train_acc = hist.history['acc']\n",
    "val_acc = hist.history['val_acc']\n",
    "\n",
    "plt.figure(figsize=(8, 8))\n",
    "plt.title(\"Learning curve\")\n",
    "plt.plot(hist.history[\"loss\"], label=\"loss\")\n",
    "plt.plot(hist.history[\"val_loss\"], label=\"val_loss\")\n",
    "plt.plot( np.argmin(hist.history[\"val_loss\"]), np.min(hist.history[\"val_loss\"]), marker=\"x\", color=\"r\", label=\"best model\")\n",
    "plt.xlabel(\"Epochs\")\n",
    "plt.ylabel(\"loss\")\n",
    "plt.legend()"
   ]
  },
  {
   "cell_type": "code",
   "execution_count": 23,
   "metadata": {},
   "outputs": [
    {
     "name": "stdout",
     "output_type": "stream",
     "text": [
      "Test loss: 0.06623497586597556 Accuracy: 0.98\n"
     ]
    }
   ],
   "source": [
    "# Find test loss and accuracy\n",
    "score = model.evaluate(X_test, Y_test, verbose=0) # accuracy check\n",
    "print('Test loss:', score[0], 'Accuracy:', score[1]) "
   ]
  },
  {
   "cell_type": "code",
   "execution_count": 26,
   "metadata": {},
   "outputs": [],
   "source": [
    "# Testing\n",
    "test_data = np.genfromtxt('test.csv', delimiter = ',')\n",
    "test_data = test_data[1:]"
   ]
  },
  {
   "cell_type": "code",
   "execution_count": 27,
   "metadata": {},
   "outputs": [
    {
     "name": "stdout",
     "output_type": "stream",
     "text": [
      "[[0. 0. 0. ... 0. 0. 0.]\n",
      " [0. 0. 0. ... 0. 0. 0.]\n",
      " [0. 0. 0. ... 0. 0. 0.]\n",
      " ...\n",
      " [0. 0. 0. ... 0. 0. 0.]\n",
      " [0. 0. 0. ... 0. 0. 0.]\n",
      " [0. 0. 0. ... 0. 0. 0.]]\n"
     ]
    }
   ],
   "source": [
    "print(test_data)"
   ]
  },
  {
   "cell_type": "code",
   "execution_count": 28,
   "metadata": {},
   "outputs": [],
   "source": [
    "test_data = test_data.reshape(test_data.shape[0], img_rows, img_cols, 1) \n",
    "test_data = test_data.astype('float32')\n",
    "\n",
    "test_data /= 255"
   ]
  },
  {
   "cell_type": "code",
   "execution_count": 30,
   "metadata": {},
   "outputs": [
    {
     "name": "stdout",
     "output_type": "stream",
     "text": [
      "[2 0 9 ... 3 9 2]\n"
     ]
    }
   ],
   "source": [
    "predictions = model.predict_classes(test_data)\n",
    "print(predictions)"
   ]
  },
  {
   "cell_type": "code",
   "execution_count": 32,
   "metadata": {},
   "outputs": [],
   "source": [
    "output=pd.DataFrame({\"ImageId\": list(range(1,len(predictions)+1)), \"Label\": predictions})\n",
    "output.to_csv(\"submission.csv\", index=False, header=True)"
   ]
  }
 ],
 "metadata": {
  "kernelspec": {
   "display_name": "Python 3",
   "language": "python",
   "name": "python3"
  },
  "language_info": {
   "codemirror_mode": {
    "name": "ipython",
    "version": 3
   },
   "file_extension": ".py",
   "mimetype": "text/x-python",
   "name": "python",
   "nbconvert_exporter": "python",
   "pygments_lexer": "ipython3",
   "version": "3.6.5"
  }
 },
 "nbformat": 4,
 "nbformat_minor": 2
}
