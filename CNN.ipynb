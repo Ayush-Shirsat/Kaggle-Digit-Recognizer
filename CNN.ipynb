{
 "cells": [
  {
   "cell_type": "code",
   "execution_count": 1,
   "metadata": {},
   "outputs": [
    {
     "name": "stderr",
     "output_type": "stream",
     "text": [
      "Using TensorFlow backend.\n"
     ]
    }
   ],
   "source": [
    "import numpy as np\n",
    "import os\n",
    "import matplotlib.pyplot as plt\n",
    "import pandas as pd\n",
    "from sklearn.model_selection import train_test_split\n",
    "\n",
    "import tensorflow as tf\n",
    "from keras.models import Sequential\n",
    "from keras.layers.core import Dense, Dropout, Activation, Flatten\n",
    "from keras.layers.convolutional import Conv2D, MaxPooling2D\n",
    "from keras.optimizers import SGD,RMSprop,adam\n",
    "from keras.utils import to_categorical\n",
    "from keras.models import model_from_json\n",
    "from keras.callbacks import ReduceLROnPlateau, EarlyStopping, ModelCheckpoint\n",
    "from keras.preprocessing.image import ImageDataGenerator"
   ]
  },
  {
   "cell_type": "code",
   "execution_count": 2,
   "metadata": {},
   "outputs": [],
   "source": [
    "# Loading data\n",
    "data = np.genfromtxt('train.csv', delimiter=',')\n",
    "data = data[1:]"
   ]
  },
  {
   "cell_type": "code",
   "execution_count": 3,
   "metadata": {},
   "outputs": [
    {
     "name": "stdout",
     "output_type": "stream",
     "text": [
      "(42000,) (42000, 784)\n"
     ]
    }
   ],
   "source": [
    "# sorting data in Y and X\n",
    "Y = data[0: ,0]\n",
    "X = data[0: ,1: ]\n",
    "print(Y.shape, X.shape)"
   ]
  },
  {
   "cell_type": "code",
   "execution_count": 4,
   "metadata": {},
   "outputs": [],
   "source": [
    "# Define image dimensions\n",
    "img_rows = 28\n",
    "img_cols = 28\n",
    "channel = 1\n",
    "\n",
    "#batch_size to train\n",
    "batch_size = 256\n",
    "\n",
    "# number of output classes\n",
    "nb_classes = 10\n",
    "\n",
    "# number of epochs to train\n",
    "nb_epochs = 50\n",
    "\n",
    "# number of convolutional filters to use\n",
    "nb_filters_1 = 20\n",
    "nb_filters_2 = 50\n",
    "\n",
    "# size of pooling area for max pooling\n",
    "nb_pool = 2\n",
    "\n",
    "# convolution kernel size\n",
    "nb_conv = 3"
   ]
  },
  {
   "cell_type": "code",
   "execution_count": 5,
   "metadata": {},
   "outputs": [],
   "source": [
    "# Train-test split\n",
    "X_train, X_val, Y_train, Y_val = train_test_split(X, Y, test_size=0.1, random_state = 4)"
   ]
  },
  {
   "cell_type": "code",
   "execution_count": 6,
   "metadata": {},
   "outputs": [
    {
     "name": "stdout",
     "output_type": "stream",
     "text": [
      "(37800, 28, 28, 1) (37800, 10) (4200, 28, 28, 1) (4200, 10)\n"
     ]
    }
   ],
   "source": [
    "# Using correct dimesntions for input data\n",
    "X_train = X_train.reshape(X_train.shape[0], img_rows, img_cols, 1)\n",
    "X_val = X_val.reshape(X_val.shape[0], img_rows, img_cols, 1)\n",
    "\n",
    "# Assigning X_train and X_test as float\n",
    "X_train = X_train.astype('float32') \n",
    "X_val = X_val.astype('float32')\n",
    "\n",
    "X_train /= 255\n",
    "X_val /= 255\n",
    "\n",
    "# Convert class vectors to binary class matrices\n",
    "Y_train = to_categorical(Y_train, nb_classes)\n",
    "Y_val = to_categorical(Y_val, nb_classes)\n",
    "\n",
    "print(X_train.shape, Y_train.shape, X_val.shape, Y_val.shape)"
   ]
  },
  {
   "cell_type": "code",
   "execution_count": 7,
   "metadata": {},
   "outputs": [],
   "source": [
    "# Data augmentation\n",
    "datagen = ImageDataGenerator(zoom_range = 0.1, height_shift_range = 0.1, width_shift_range = 0.1, rotation_range = 10)"
   ]
  },
  {
   "cell_type": "code",
   "execution_count": 8,
   "metadata": {},
   "outputs": [
    {
     "name": "stdout",
     "output_type": "stream",
     "text": [
      "WARNING:tensorflow:From C:\\Users\\Ayush Shirsat\\Anaconda3\\lib\\site-packages\\tensorflow\\python\\framework\\op_def_library.py:263: colocate_with (from tensorflow.python.framework.ops) is deprecated and will be removed in a future version.\n",
      "Instructions for updating:\n",
      "Colocations handled automatically by placer.\n",
      "WARNING:tensorflow:From C:\\Users\\Ayush Shirsat\\Anaconda3\\lib\\site-packages\\keras\\backend\\tensorflow_backend.py:3445: calling dropout (from tensorflow.python.ops.nn_ops) with keep_prob is deprecated and will be removed in a future version.\n",
      "Instructions for updating:\n",
      "Please use `rate` instead of `keep_prob`. Rate should be set to `rate = 1 - keep_prob`.\n"
     ]
    }
   ],
   "source": [
    "# Implementing CNN\n",
    "model = Sequential()\n",
    "\n",
    "model.add(Conv2D(nb_filters_1, kernel_size = (nb_conv, nb_conv), activation='relu', input_shape=(img_rows, img_cols, 1)))\n",
    "model.add(MaxPooling2D(pool_size = (nb_pool, nb_pool), strides = (2, 2)))\n",
    "\n",
    "model.add(Conv2D(nb_filters_2, kernel_size = (nb_conv, nb_conv), activation='relu'))\n",
    "model.add(MaxPooling2D(pool_size = (nb_pool, nb_pool), strides = (2, 2)))\n",
    "\n",
    "model.add(Flatten())\n",
    "model.add(Dense(512, activation='relu'))\n",
    "model.add(Dropout(0.2))\n",
    "\n",
    "model.add(Dense(256, activation='relu'))\n",
    "model.add(Dropout(0.2))\n",
    "\n",
    "model.add(Dense(nb_classes, activation='softmax'))"
   ]
  },
  {
   "cell_type": "code",
   "execution_count": 9,
   "metadata": {},
   "outputs": [
    {
     "name": "stdout",
     "output_type": "stream",
     "text": [
      "_________________________________________________________________\n",
      "Layer (type)                 Output Shape              Param #   \n",
      "=================================================================\n",
      "conv2d_1 (Conv2D)            (None, 26, 26, 20)        200       \n",
      "_________________________________________________________________\n",
      "max_pooling2d_1 (MaxPooling2 (None, 13, 13, 20)        0         \n",
      "_________________________________________________________________\n",
      "conv2d_2 (Conv2D)            (None, 11, 11, 50)        9050      \n",
      "_________________________________________________________________\n",
      "max_pooling2d_2 (MaxPooling2 (None, 5, 5, 50)          0         \n",
      "_________________________________________________________________\n",
      "flatten_1 (Flatten)          (None, 1250)              0         \n",
      "_________________________________________________________________\n",
      "dense_1 (Dense)              (None, 512)               640512    \n",
      "_________________________________________________________________\n",
      "dropout_1 (Dropout)          (None, 512)               0         \n",
      "_________________________________________________________________\n",
      "dense_2 (Dense)              (None, 256)               131328    \n",
      "_________________________________________________________________\n",
      "dropout_2 (Dropout)          (None, 256)               0         \n",
      "_________________________________________________________________\n",
      "dense_3 (Dense)              (None, 10)                2570      \n",
      "=================================================================\n",
      "Total params: 783,660\n",
      "Trainable params: 783,660\n",
      "Non-trainable params: 0\n",
      "_________________________________________________________________\n"
     ]
    }
   ],
   "source": [
    "# Optimizer used is Stochastic Gradient Descent with learning rate of 0.01\n",
    "# Loss is calculated using categorical cross entropy\n",
    "opt = 'adam'\n",
    "ReducedLR = ReduceLROnPlateau(monitor='val_loss', factor=0.1, patience=5, verbose=1, mode='auto', min_lr=1*10**-7)\n",
    "early_stop = EarlyStopping(monitor='val_loss', patience=10, verbose=1, mode='auto')\n",
    "filepath=\"weights.best.h5\"\n",
    "checkpoint = ModelCheckpoint(filepath, monitor='val_loss', verbose=1, save_best_only=True, mode='min')\n",
    "model.compile(loss='categorical_crossentropy', optimizer = opt, metrics = ['accuracy'])\n",
    "model.summary()"
   ]
  },
  {
   "cell_type": "code",
   "execution_count": 10,
   "metadata": {},
   "outputs": [
    {
     "name": "stdout",
     "output_type": "stream",
     "text": [
      "WARNING:tensorflow:From C:\\Users\\Ayush Shirsat\\Anaconda3\\lib\\site-packages\\tensorflow\\python\\ops\\math_ops.py:3066: to_int32 (from tensorflow.python.ops.math_ops) is deprecated and will be removed in a future version.\n",
      "Instructions for updating:\n",
      "Use tf.cast instead.\n",
      "Epoch 1/50\n",
      "147/147 [==============================] - 20s 136ms/step - loss: 0.6530 - acc: 0.7885 - val_loss: 0.2139 - val_acc: 0.9326\n",
      "\n",
      "Epoch 00001: val_loss improved from inf to 0.21394, saving model to weights.best.h5\n",
      "Epoch 2/50\n",
      "147/147 [==============================] - 20s 137ms/step - loss: 0.1714 - acc: 0.9472 - val_loss: 0.1155 - val_acc: 0.9642\n",
      "\n",
      "Epoch 00002: val_loss improved from 0.21394 to 0.11546, saving model to weights.best.h5\n",
      "Epoch 3/50\n",
      "147/147 [==============================] - 23s 155ms/step - loss: 0.1182 - acc: 0.9649 - val_loss: 0.1046 - val_acc: 0.9635\n",
      "\n",
      "Epoch 00003: val_loss improved from 0.11546 to 0.10459, saving model to weights.best.h5\n",
      "Epoch 4/50\n",
      "147/147 [==============================] - 23s 160ms/step - loss: 0.0985 - acc: 0.9693 - val_loss: 0.0856 - val_acc: 0.9736\n",
      "\n",
      "Epoch 00004: val_loss improved from 0.10459 to 0.08558, saving model to weights.best.h5\n",
      "Epoch 5/50\n",
      "147/147 [==============================] - 24s 166ms/step - loss: 0.0794 - acc: 0.9748 - val_loss: 0.0659 - val_acc: 0.9774\n",
      "\n",
      "Epoch 00005: val_loss improved from 0.08558 to 0.06594, saving model to weights.best.h5\n",
      "Epoch 6/50\n",
      "147/147 [==============================] - 22s 151ms/step - loss: 0.0701 - acc: 0.9785 - val_loss: 0.0589 - val_acc: 0.9812\n",
      "\n",
      "Epoch 00006: val_loss improved from 0.06594 to 0.05891, saving model to weights.best.h5\n",
      "Epoch 7/50\n",
      "147/147 [==============================] - 22s 148ms/step - loss: 0.0664 - acc: 0.9796 - val_loss: 0.0689 - val_acc: 0.9823\n",
      "\n",
      "Epoch 00007: val_loss did not improve from 0.05891\n",
      "Epoch 8/50\n",
      "147/147 [==============================] - 23s 160ms/step - loss: 0.0595 - acc: 0.9817 - val_loss: 0.0516 - val_acc: 0.9853\n",
      "\n",
      "Epoch 00008: val_loss improved from 0.05891 to 0.05161, saving model to weights.best.h5\n",
      "Epoch 9/50\n",
      "147/147 [==============================] - 25s 170ms/step - loss: 0.0563 - acc: 0.9823 - val_loss: 0.0603 - val_acc: 0.9828\n",
      "\n",
      "Epoch 00009: val_loss did not improve from 0.05161\n",
      "Epoch 10/50\n",
      "147/147 [==============================] - 24s 167ms/step - loss: 0.0513 - acc: 0.9835 - val_loss: 0.0430 - val_acc: 0.9873\n",
      "\n",
      "Epoch 00010: val_loss improved from 0.05161 to 0.04296, saving model to weights.best.h5\n",
      "Epoch 11/50\n",
      "147/147 [==============================] - 26s 180ms/step - loss: 0.0489 - acc: 0.9842 - val_loss: 0.0467 - val_acc: 0.9873\n",
      "\n",
      "Epoch 00011: val_loss did not improve from 0.04296\n",
      "Epoch 12/50\n",
      "147/147 [==============================] - 24s 160ms/step - loss: 0.0453 - acc: 0.9855 - val_loss: 0.0463 - val_acc: 0.9848\n",
      "\n",
      "Epoch 00012: val_loss did not improve from 0.04296\n",
      "Epoch 13/50\n",
      "147/147 [==============================] - 23s 157ms/step - loss: 0.0437 - acc: 0.9866 - val_loss: 0.0528 - val_acc: 0.9853\n",
      "\n",
      "Epoch 00013: val_loss did not improve from 0.04296\n",
      "Epoch 14/50\n",
      "147/147 [==============================] - 24s 165ms/step - loss: 0.0428 - acc: 0.9860 - val_loss: 0.0577 - val_acc: 0.9820\n",
      "\n",
      "Epoch 00014: val_loss did not improve from 0.04296\n",
      "Epoch 15/50\n",
      "147/147 [==============================] - 22s 151ms/step - loss: 0.0380 - acc: 0.9879 - val_loss: 0.0465 - val_acc: 0.9863\n",
      "\n",
      "Epoch 00015: ReduceLROnPlateau reducing learning rate to 0.00010000000474974513.\n",
      "\n",
      "Epoch 00015: val_loss did not improve from 0.04296\n",
      "Epoch 16/50\n",
      "147/147 [==============================] - 23s 155ms/step - loss: 0.0326 - acc: 0.9903 - val_loss: 0.0298 - val_acc: 0.9916\n",
      "\n",
      "Epoch 00016: val_loss improved from 0.04296 to 0.02977, saving model to weights.best.h5\n",
      "Epoch 17/50\n",
      "147/147 [==============================] - 22s 148ms/step - loss: 0.0265 - acc: 0.9917 - val_loss: 0.0473 - val_acc: 0.9883\n",
      "\n",
      "Epoch 00017: val_loss did not improve from 0.02977\n",
      "Epoch 18/50\n",
      "147/147 [==============================] - 22s 151ms/step - loss: 0.0275 - acc: 0.9920 - val_loss: 0.0357 - val_acc: 0.9902\n",
      "\n",
      "Epoch 00018: val_loss did not improve from 0.02977\n",
      "Epoch 19/50\n",
      "147/147 [==============================] - 23s 155ms/step - loss: 0.0281 - acc: 0.9907 - val_loss: 0.0366 - val_acc: 0.9891\n",
      "\n",
      "Epoch 00019: val_loss did not improve from 0.02977\n",
      "Epoch 20/50\n",
      "147/147 [==============================] - 23s 154ms/step - loss: 0.0282 - acc: 0.9911 - val_loss: 0.0324 - val_acc: 0.9896\n",
      "\n",
      "Epoch 00020: val_loss did not improve from 0.02977\n",
      "Epoch 21/50\n",
      "147/147 [==============================] - 24s 163ms/step - loss: 0.0279 - acc: 0.9914 - val_loss: 0.0337 - val_acc: 0.9894\n",
      "\n",
      "Epoch 00021: ReduceLROnPlateau reducing learning rate to 1.0000000474974514e-05.\n",
      "\n",
      "Epoch 00021: val_loss did not improve from 0.02977\n",
      "Epoch 22/50\n",
      "147/147 [==============================] - 24s 166ms/step - loss: 0.0257 - acc: 0.9916 - val_loss: 0.0322 - val_acc: 0.9919\n",
      "\n",
      "Epoch 00022: val_loss did not improve from 0.02977\n",
      "Epoch 23/50\n",
      "147/147 [==============================] - 22s 149ms/step - loss: 0.0263 - acc: 0.9917 - val_loss: 0.0316 - val_acc: 0.9909\n",
      "\n",
      "Epoch 00023: val_loss did not improve from 0.02977\n",
      "Epoch 24/50\n",
      "147/147 [==============================] - 23s 153ms/step - loss: 0.0246 - acc: 0.9920 - val_loss: 0.0269 - val_acc: 0.9919\n",
      "\n",
      "Epoch 00024: val_loss improved from 0.02977 to 0.02685, saving model to weights.best.h5\n",
      "Epoch 25/50\n",
      "147/147 [==============================] - 25s 168ms/step - loss: 0.0260 - acc: 0.9920 - val_loss: 0.0374 - val_acc: 0.9899\n",
      "\n",
      "Epoch 00025: val_loss did not improve from 0.02685\n",
      "Epoch 26/50\n",
      "147/147 [==============================] - 24s 165ms/step - loss: 0.0235 - acc: 0.9924 - val_loss: 0.0300 - val_acc: 0.9896\n",
      "\n",
      "Epoch 00026: val_loss did not improve from 0.02685\n",
      "Epoch 27/50\n",
      "147/147 [==============================] - 24s 161ms/step - loss: 0.0243 - acc: 0.9923 - val_loss: 0.0298 - val_acc: 0.9896\n",
      "\n",
      "Epoch 00027: val_loss did not improve from 0.02685\n",
      "Epoch 28/50\n",
      "147/147 [==============================] - 24s 163ms/step - loss: 0.0222 - acc: 0.9930 - val_loss: 0.0329 - val_acc: 0.9914\n",
      "\n",
      "Epoch 00028: val_loss did not improve from 0.02685\n",
      "Epoch 29/50\n",
      "147/147 [==============================] - 23s 159ms/step - loss: 0.0253 - acc: 0.9921 - val_loss: 0.0327 - val_acc: 0.9909\n",
      "\n",
      "Epoch 00029: ReduceLROnPlateau reducing learning rate to 1.0000000656873453e-06.\n",
      "\n",
      "Epoch 00029: val_loss did not improve from 0.02685\n",
      "Epoch 30/50\n",
      "147/147 [==============================] - 23s 159ms/step - loss: 0.0243 - acc: 0.9921 - val_loss: 0.0313 - val_acc: 0.9911\n",
      "\n",
      "Epoch 00030: val_loss did not improve from 0.02685\n",
      "Epoch 31/50\n",
      "147/147 [==============================] - 23s 158ms/step - loss: 0.0233 - acc: 0.9930 - val_loss: 0.0367 - val_acc: 0.9899\n",
      "\n",
      "Epoch 00031: val_loss did not improve from 0.02685\n",
      "Epoch 32/50\n",
      "147/147 [==============================] - 22s 152ms/step - loss: 0.0244 - acc: 0.9925 - val_loss: 0.0284 - val_acc: 0.9916\n",
      "\n",
      "Epoch 00032: val_loss did not improve from 0.02685\n",
      "Epoch 33/50\n",
      "147/147 [==============================] - 21s 140ms/step - loss: 0.0244 - acc: 0.9930 - val_loss: 0.0334 - val_acc: 0.9901\n",
      "\n",
      "Epoch 00033: val_loss did not improve from 0.02685\n",
      "Epoch 34/50\n",
      "147/147 [==============================] - 20s 134ms/step - loss: 0.0246 - acc: 0.9921 - val_loss: 0.0310 - val_acc: 0.9916\n",
      "\n",
      "Epoch 00034: ReduceLROnPlateau reducing learning rate to 1.0000001111620805e-07.\n",
      "\n",
      "Epoch 00034: val_loss did not improve from 0.02685\n",
      "Epoch 00034: early stopping\n"
     ]
    }
   ],
   "source": [
    "# Start model training\n",
    "hist = model.fit_generator(datagen.flow(X_train, Y_train, batch_size=256), steps_per_epoch=len(X_train)//batch_size, epochs=nb_epochs, verbose=1, validation_data = datagen.flow(X_val, Y_val, batch_size=256), validation_steps = len(X_val)//batch_size, callbacks=[ReducedLR, early_stop, checkpoint], shuffle = True)"
   ]
  },
  {
   "cell_type": "code",
   "execution_count": 11,
   "metadata": {},
   "outputs": [
    {
     "data": {
      "text/plain": [
       "<matplotlib.legend.Legend at 0x1c9960f32b0>"
      ]
     },
     "execution_count": 11,
     "metadata": {},
     "output_type": "execute_result"
    },
    {
     "data": {
      "image/png": "[encoded data removed]",
      "text/plain": [
       "<Figure size 576x576 with 1 Axes>"
      ]
     },
     "metadata": {},
     "output_type": "display_data"
    }
   ],
   "source": [
    "train_loss = hist.history['loss']\n",
    "val_loss = hist.history['val_loss'] \n",
    "train_acc = hist.history['acc']\n",
    "val_acc = hist.history['val_acc']\n",
    "\n",
    "plt.figure(figsize=(8, 8))\n",
    "plt.title(\"Learning curve\")\n",
    "plt.plot(hist.history[\"loss\"], label=\"loss\")\n",
    "plt.plot(hist.history[\"val_loss\"], label=\"val_loss\")\n",
    "plt.plot( np.argmin(hist.history[\"val_loss\"]), np.min(hist.history[\"val_loss\"]), marker=\"x\", color=\"r\", label=\"best model\")\n",
    "plt.xlabel(\"Epochs\")\n",
    "plt.ylabel(\"loss\")\n",
    "plt.legend()"
   ]
  },
  {
   "cell_type": "code",
   "execution_count": 12,
   "metadata": {},
   "outputs": [
    {
     "name": "stdout",
     "output_type": "stream",
     "text": [
      "Saved model to disk\n"
     ]
    }
   ],
   "source": [
    "# Save model and weights\n",
    "model_json = model.to_json()\n",
    "with open(\"model.json\", \"w\") as json_file:\n",
    "    json_file.write(model_json)\n",
    "\n",
    "# Serialize weights to H5\n",
    "model.save_weights(\"model.h5\")\n",
    "print(\"Saved model to disk\")"
   ]
  },
  {
   "cell_type": "code",
   "execution_count": 13,
   "metadata": {},
   "outputs": [
    {
     "name": "stdout",
     "output_type": "stream",
     "text": [
      "Loaded model from disk\n"
     ]
    }
   ],
   "source": [
    "# Load model and weights\n",
    "json_file = open('model.json', 'r')\n",
    "loaded_model_json = json_file.read()\n",
    "json_file.close()\n",
    "loaded_model = model_from_json(loaded_model_json)\n",
    "\n",
    "# Load weights into new model\n",
    "loaded_model.load_weights(\"weights.best.h5\")\n",
    "print(\"Loaded model from disk\")"
   ]
  },
  {
   "cell_type": "code",
   "execution_count": 14,
   "metadata": {},
   "outputs": [
    {
     "ename": "RuntimeError",
     "evalue": "You must compile a model before training/testing. Use `model.compile(optimizer, loss)`.",
     "output_type": "error",
     "traceback": [
      "\u001b[1;31m---------------------------------------------------------------------------\u001b[0m",
      "\u001b[1;31mRuntimeError\u001b[0m                              Traceback (most recent call last)",
      "\u001b[1;32m<ipython-input-14-aba7cecf371a>\u001b[0m in \u001b[0;36m<module>\u001b[1;34m()\u001b[0m\n\u001b[0;32m      1\u001b[0m \u001b[1;31m# Find test loss and accuracy\u001b[0m\u001b[1;33m\u001b[0m\u001b[1;33m\u001b[0m\u001b[0m\n\u001b[1;32m----> 2\u001b[1;33m \u001b[0mscore\u001b[0m \u001b[1;33m=\u001b[0m \u001b[0mloaded_model\u001b[0m\u001b[1;33m.\u001b[0m\u001b[0mevaluate\u001b[0m\u001b[1;33m(\u001b[0m\u001b[0mX_val\u001b[0m\u001b[1;33m,\u001b[0m \u001b[0mY_val\u001b[0m\u001b[1;33m,\u001b[0m \u001b[0mverbose\u001b[0m\u001b[1;33m=\u001b[0m\u001b[1;36m0\u001b[0m\u001b[1;33m)\u001b[0m \u001b[1;31m# accuracy check\u001b[0m\u001b[1;33m\u001b[0m\u001b[0m\n\u001b[0m\u001b[0;32m      3\u001b[0m \u001b[0mprint\u001b[0m\u001b[1;33m(\u001b[0m\u001b[1;34m'Test loss:'\u001b[0m\u001b[1;33m,\u001b[0m \u001b[0mscore\u001b[0m\u001b[1;33m[\u001b[0m\u001b[1;36m0\u001b[0m\u001b[1;33m]\u001b[0m\u001b[1;33m,\u001b[0m \u001b[1;34m'Accuracy:'\u001b[0m\u001b[1;33m,\u001b[0m \u001b[0mscore\u001b[0m\u001b[1;33m[\u001b[0m\u001b[1;36m1\u001b[0m\u001b[1;33m]\u001b[0m\u001b[1;33m)\u001b[0m\u001b[1;33m\u001b[0m\u001b[0m\n",
      "\u001b[1;32m~\\Anaconda3\\lib\\site-packages\\keras\\engine\\training.py\u001b[0m in \u001b[0;36mevaluate\u001b[1;34m(self, x, y, batch_size, verbose, sample_weight, steps)\u001b[0m\n\u001b[0;32m   1100\u001b[0m             \u001b[0mx\u001b[0m\u001b[1;33m,\u001b[0m \u001b[0my\u001b[0m\u001b[1;33m,\u001b[0m\u001b[1;33m\u001b[0m\u001b[0m\n\u001b[0;32m   1101\u001b[0m             \u001b[0msample_weight\u001b[0m\u001b[1;33m=\u001b[0m\u001b[0msample_weight\u001b[0m\u001b[1;33m,\u001b[0m\u001b[1;33m\u001b[0m\u001b[0m\n\u001b[1;32m-> 1102\u001b[1;33m             batch_size=batch_size)\n\u001b[0m\u001b[0;32m   1103\u001b[0m         \u001b[1;31m# Prepare inputs, delegate logic to `test_loop`.\u001b[0m\u001b[1;33m\u001b[0m\u001b[1;33m\u001b[0m\u001b[0m\n\u001b[0;32m   1104\u001b[0m         \u001b[1;32mif\u001b[0m \u001b[0mself\u001b[0m\u001b[1;33m.\u001b[0m\u001b[0m_uses_dynamic_learning_phase\u001b[0m\u001b[1;33m(\u001b[0m\u001b[1;33m)\u001b[0m\u001b[1;33m:\u001b[0m\u001b[1;33m\u001b[0m\u001b[0m\n",
      "\u001b[1;32m~\\Anaconda3\\lib\\site-packages\\keras\\engine\\training.py\u001b[0m in \u001b[0;36m_standardize_user_data\u001b[1;34m(self, x, y, sample_weight, class_weight, check_array_lengths, batch_size)\u001b[0m\n\u001b[0;32m    679\u001b[0m         \u001b[1;32mif\u001b[0m \u001b[0my\u001b[0m \u001b[1;32mis\u001b[0m \u001b[1;32mnot\u001b[0m \u001b[1;32mNone\u001b[0m\u001b[1;33m:\u001b[0m\u001b[1;33m\u001b[0m\u001b[0m\n\u001b[0;32m    680\u001b[0m             \u001b[1;32mif\u001b[0m \u001b[1;32mnot\u001b[0m \u001b[0mself\u001b[0m\u001b[1;33m.\u001b[0m\u001b[0moptimizer\u001b[0m\u001b[1;33m:\u001b[0m\u001b[1;33m\u001b[0m\u001b[0m\n\u001b[1;32m--> 681\u001b[1;33m                 raise RuntimeError('You must compile a model before '\n\u001b[0m\u001b[0;32m    682\u001b[0m                                    \u001b[1;34m'training/testing. '\u001b[0m\u001b[1;33m\u001b[0m\u001b[0m\n\u001b[0;32m    683\u001b[0m                                    'Use `model.compile(optimizer, loss)`.')\n",
      "\u001b[1;31mRuntimeError\u001b[0m: You must compile a model before training/testing. Use `model.compile(optimizer, loss)`."
     ]
    }
   ],
   "source": [
    "# Find test loss and accuracy\n",
    "score = loaded_model.evaluate(X_val, Y_val, verbose=0) # accuracy check\n",
    "print('Test loss:', score[0], 'Accuracy:', score[1]) "
   ]
  },
  {
   "cell_type": "code",
   "execution_count": null,
   "metadata": {},
   "outputs": [],
   "source": [
    "# Testing\n",
    "test_data = np.genfromtxt('test.csv', delimiter = ',')\n",
    "test_data = test_data[1:]"
   ]
  },
  {
   "cell_type": "code",
   "execution_count": null,
   "metadata": {},
   "outputs": [],
   "source": [
    "print(test_data)"
   ]
  },
  {
   "cell_type": "code",
   "execution_count": null,
   "metadata": {},
   "outputs": [],
   "source": [
    "test_data = test_data.reshape(test_data.shape[0], img_rows, img_cols, 1) \n",
    "test_data = test_data.astype('float32')\n",
    "\n",
    "test_data /= 255"
   ]
  },
  {
   "cell_type": "code",
   "execution_count": null,
   "metadata": {},
   "outputs": [],
   "source": [
    "predictions = loaded_model.predict_classes(test_data)\n",
    "print(predictions)"
   ]
  },
  {
   "cell_type": "code",
   "execution_count": null,
   "metadata": {},
   "outputs": [],
   "source": [
    "output=pd.DataFrame({\"ImageId\": list(range(1,len(predictions)+1)), \"Label\": predictions})\n",
    "output.to_csv(\"submission.csv\", index=False, header=True)"
   ]
  }
 ],
 "metadata": {
  "kernelspec": {
   "display_name": "Python 3",
   "language": "python",
   "name": "python3"
  },
  "language_info": {
   "codemirror_mode": {
    "name": "ipython",
    "version": 3
   },
   "file_extension": ".py",
   "mimetype": "text/x-python",
   "name": "python",
   "nbconvert_exporter": "python",
   "pygments_lexer": "ipython3",
   "version": "3.6.5"
  }
 },
 "nbformat": 4,
 "nbformat_minor": 2
}
