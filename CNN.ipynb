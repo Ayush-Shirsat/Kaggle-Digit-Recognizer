{
 "cells": [
  {
   "cell_type": "code",
   "execution_count": 1,
   "metadata": {},
   "outputs": [
    {
     "name": "stderr",
     "output_type": "stream",
     "text": [
      "Using TensorFlow backend.\n"
     ]
    }
   ],
   "source": [
    "import numpy as np\n",
    "import os\n",
    "import matplotlib.pyplot as plt\n",
    "import pandas as pd\n",
    "from sklearn.model_selection import train_test_split\n",
    "\n",
    "import tensorflow as tf\n",
    "from keras.models import Sequential\n",
    "from keras.layers.core import Dense, Dropout, Activation, Flatten\n",
    "from keras.layers.convolutional import Conv2D, MaxPooling2D\n",
    "from keras.optimizers import SGD,RMSprop,adam\n",
    "from keras.utils import to_categorical\n",
    "from keras.models import model_from_json\n",
    "from keras.callbacks import ReduceLROnPlateau, EarlyStopping, ModelCheckpoint\n",
    "from keras.preprocessing.image import ImageDataGenerator"
   ]
  },
  {
   "cell_type": "code",
   "execution_count": 2,
   "metadata": {},
   "outputs": [],
   "source": [
    "# Loading data\n",
    "data = np.genfromtxt('train.csv', delimiter=',')\n",
    "data = data[1:]"
   ]
  },
  {
   "cell_type": "code",
   "execution_count": 3,
   "metadata": {},
   "outputs": [
    {
     "name": "stdout",
     "output_type": "stream",
     "text": [
      "(42000,) (42000, 784)\n"
     ]
    }
   ],
   "source": [
    "# sorting data in Y and X\n",
    "Y = data[0: ,0]\n",
    "X = data[0: ,1: ]\n",
    "print(Y.shape, X.shape)"
   ]
  },
  {
   "cell_type": "code",
   "execution_count": 4,
   "metadata": {},
   "outputs": [],
   "source": [
    "# Define image dimensions\n",
    "img_rows = 28\n",
    "img_cols = 28\n",
    "channel = 1\n",
    "\n",
    "#batch_size to train\n",
    "batch_size = 256\n",
    "\n",
    "# number of output classes\n",
    "nb_classes = 10\n",
    "\n",
    "# number of epochs to train\n",
    "nb_epochs = 100\n",
    "\n",
    "# number of convolutional filters to use\n",
    "nb_filters_1 = 20\n",
    "nb_filters_2 = 50\n",
    "\n",
    "# size of pooling area for max pooling\n",
    "nb_pool = 2\n",
    "\n",
    "# convolution kernel size\n",
    "nb_conv = 3"
   ]
  },
  {
   "cell_type": "code",
   "execution_count": 5,
   "metadata": {},
   "outputs": [],
   "source": [
    "# Train-test split\n",
    "X_train, X_val, Y_train, Y_val = train_test_split(X, Y, test_size=0.1, random_state = 4)"
   ]
  },
  {
   "cell_type": "code",
   "execution_count": 6,
   "metadata": {},
   "outputs": [
    {
     "name": "stdout",
     "output_type": "stream",
     "text": [
      "(37800, 28, 28, 1) (37800, 10) (4200, 28, 28, 1) (4200, 10)\n"
     ]
    }
   ],
   "source": [
    "# Using correct dimesntions for input data\n",
    "X_train = X_train.reshape(X_train.shape[0], img_rows, img_cols, 1)\n",
    "X_val = X_val.reshape(X_val.shape[0], img_rows, img_cols, 1)\n",
    "\n",
    "# Assigning X_train and X_test as float\n",
    "X_train = X_train.astype('float32') \n",
    "X_val = X_val.astype('float32')\n",
    "\n",
    "X_train /= 255\n",
    "X_val /= 255\n",
    "\n",
    "# Convert class vectors to binary class matrices\n",
    "Y_train = to_categorical(Y_train, nb_classes)\n",
    "Y_val = to_categorical(Y_val, nb_classes)\n",
    "\n",
    "print(X_train.shape, Y_train.shape, X_val.shape, Y_val.shape)"
   ]
  },
  {
   "cell_type": "code",
   "execution_count": 7,
   "metadata": {},
   "outputs": [],
   "source": [
    "# Data augmentation\n",
    "datagen = ImageDataGenerator(zoom_range = 0.1, height_shift_range = 0.1, width_shift_range = 0.1)"
   ]
  },
  {
   "cell_type": "code",
   "execution_count": 8,
   "metadata": {},
   "outputs": [
    {
     "name": "stdout",
     "output_type": "stream",
     "text": [
      "WARNING:tensorflow:From C:\\Users\\Ayush Shirsat\\Anaconda3\\lib\\site-packages\\tensorflow\\python\\framework\\op_def_library.py:263: colocate_with (from tensorflow.python.framework.ops) is deprecated and will be removed in a future version.\n",
      "Instructions for updating:\n",
      "Colocations handled automatically by placer.\n",
      "WARNING:tensorflow:From C:\\Users\\Ayush Shirsat\\Anaconda3\\lib\\site-packages\\keras\\backend\\tensorflow_backend.py:3445: calling dropout (from tensorflow.python.ops.nn_ops) with keep_prob is deprecated and will be removed in a future version.\n",
      "Instructions for updating:\n",
      "Please use `rate` instead of `keep_prob`. Rate should be set to `rate = 1 - keep_prob`.\n"
     ]
    }
   ],
   "source": [
    "# Implementing CNN\n",
    "model = Sequential()\n",
    "\n",
    "model.add(Conv2D(nb_filters_1, kernel_size = (nb_conv, nb_conv), activation='relu', input_shape=(img_rows, img_cols, 1)))\n",
    "model.add(MaxPooling2D(pool_size = (nb_pool, nb_pool), strides = (2, 2)))\n",
    "\n",
    "model.add(Conv2D(nb_filters_2, kernel_size = (nb_conv, nb_conv), activation='relu'))\n",
    "model.add(MaxPooling2D(pool_size = (nb_pool, nb_pool), strides = (2, 2)))\n",
    "\n",
    "model.add(Flatten())\n",
    "model.add(Dense(512, activation='relu'))\n",
    "model.add(Dropout(0.2))\n",
    "\n",
    "model.add(Dense(256, activation='relu'))\n",
    "model.add(Dropout(0.2))\n",
    "\n",
    "model.add(Dense(128, activation='relu'))\n",
    "model.add(Dropout(0.2))\n",
    "\n",
    "model.add(Dense(64, activation='relu'))\n",
    "model.add(Dropout(0.2))\n",
    "\n",
    "model.add(Dense(nb_classes, activation='softmax'))"
   ]
  },
  {
   "cell_type": "code",
   "execution_count": 9,
   "metadata": {},
   "outputs": [
    {
     "name": "stdout",
     "output_type": "stream",
     "text": [
      "_________________________________________________________________\n",
      "Layer (type)                 Output Shape              Param #   \n",
      "=================================================================\n",
      "conv2d_1 (Conv2D)            (None, 26, 26, 20)        200       \n",
      "_________________________________________________________________\n",
      "max_pooling2d_1 (MaxPooling2 (None, 13, 13, 20)        0         \n",
      "_________________________________________________________________\n",
      "conv2d_2 (Conv2D)            (None, 11, 11, 50)        9050      \n",
      "_________________________________________________________________\n",
      "max_pooling2d_2 (MaxPooling2 (None, 5, 5, 50)          0         \n",
      "_________________________________________________________________\n",
      "flatten_1 (Flatten)          (None, 1250)              0         \n",
      "_________________________________________________________________\n",
      "dense_1 (Dense)              (None, 512)               640512    \n",
      "_________________________________________________________________\n",
      "dropout_1 (Dropout)          (None, 512)               0         \n",
      "_________________________________________________________________\n",
      "dense_2 (Dense)              (None, 256)               131328    \n",
      "_________________________________________________________________\n",
      "dropout_2 (Dropout)          (None, 256)               0         \n",
      "_________________________________________________________________\n",
      "dense_3 (Dense)              (None, 128)               32896     \n",
      "_________________________________________________________________\n",
      "dropout_3 (Dropout)          (None, 128)               0         \n",
      "_________________________________________________________________\n",
      "dense_4 (Dense)              (None, 64)                8256      \n",
      "_________________________________________________________________\n",
      "dropout_4 (Dropout)          (None, 64)                0         \n",
      "_________________________________________________________________\n",
      "dense_5 (Dense)              (None, 10)                650       \n",
      "=================================================================\n",
      "Total params: 822,892\n",
      "Trainable params: 822,892\n",
      "Non-trainable params: 0\n",
      "_________________________________________________________________\n"
     ]
    }
   ],
   "source": [
    "# Loss is calculated using categorical cross entropy\n",
    "opt = 'adam'\n",
    "ReducedLR = ReduceLROnPlateau(monitor='val_loss', factor=0.1, patience=5, verbose=1, mode='auto', min_lr=1*10**-8)\n",
    "early_stop = EarlyStopping(monitor='val_loss', patience=15, verbose=1, mode='auto')\n",
    "filepath=\"weights.best.h5\"\n",
    "checkpoint = ModelCheckpoint(filepath, monitor='val_loss', verbose=1, save_best_only=True, mode='min')\n",
    "model.compile(loss='categorical_crossentropy', optimizer = opt, metrics = ['accuracy'])\n",
    "model.summary()"
   ]
  },
  {
   "cell_type": "code",
   "execution_count": null,
   "metadata": {},
   "outputs": [
    {
     "name": "stdout",
     "output_type": "stream",
     "text": [
      "WARNING:tensorflow:From C:\\Users\\Ayush Shirsat\\Anaconda3\\lib\\site-packages\\tensorflow\\python\\ops\\math_ops.py:3066: to_int32 (from tensorflow.python.ops.math_ops) is deprecated and will be removed in a future version.\n",
      "Instructions for updating:\n",
      "Use tf.cast instead.\n",
      "Epoch 1/100\n",
      "147/147 [==============================] - 25s 168ms/step - loss: 0.7917 - acc: 0.7381 - val_loss: 0.2125 - val_acc: 0.9329\n",
      "\n",
      "Epoch 00001: val_loss improved from inf to 0.21252, saving model to weights.best.h5\n",
      "Epoch 2/100\n",
      "147/147 [==============================] - 25s 169ms/step - loss: 0.2011 - acc: 0.9418 - val_loss: 0.1224 - val_acc: 0.9635\n",
      "\n",
      "Epoch 00002: val_loss improved from 0.21252 to 0.12242, saving model to weights.best.h5\n",
      "Epoch 3/100\n",
      "147/147 [==============================] - 25s 169ms/step - loss: 0.1396 - acc: 0.9603 - val_loss: 0.1077 - val_acc: 0.9668\n",
      "\n",
      "Epoch 00003: val_loss improved from 0.12242 to 0.10770, saving model to weights.best.h5\n",
      "Epoch 4/100\n",
      "147/147 [==============================] - 24s 165ms/step - loss: 0.1121 - acc: 0.9691 - val_loss: 0.0852 - val_acc: 0.9784\n",
      "\n",
      "Epoch 00004: val_loss improved from 0.10770 to 0.08520, saving model to weights.best.h5\n",
      "Epoch 5/100\n",
      "147/147 [==============================] - 24s 164ms/step - loss: 0.0966 - acc: 0.9729 - val_loss: 0.0823 - val_acc: 0.9741\n",
      "\n",
      "Epoch 00005: val_loss improved from 0.08520 to 0.08232, saving model to weights.best.h5\n",
      "Epoch 6/100\n",
      "147/147 [==============================] - 24s 163ms/step - loss: 0.0805 - acc: 0.9783 - val_loss: 0.0612 - val_acc: 0.9830\n",
      "\n",
      "Epoch 00006: val_loss improved from 0.08232 to 0.06120, saving model to weights.best.h5\n",
      "Epoch 7/100\n",
      "147/147 [==============================] - 24s 166ms/step - loss: 0.0728 - acc: 0.9796 - val_loss: 0.0873 - val_acc: 0.9777\n",
      "\n",
      "Epoch 00007: val_loss did not improve from 0.06120\n",
      "Epoch 8/100\n",
      "147/147 [==============================] - 24s 163ms/step - loss: 0.0666 - acc: 0.9801 - val_loss: 0.0778 - val_acc: 0.9774\n",
      "\n",
      "Epoch 00008: val_loss did not improve from 0.06120\n",
      "Epoch 9/100\n",
      "147/147 [==============================] - 24s 165ms/step - loss: 0.0628 - acc: 0.9822 - val_loss: 0.0532 - val_acc: 0.9845\n",
      "\n",
      "Epoch 00009: val_loss improved from 0.06120 to 0.05324, saving model to weights.best.h5\n",
      "Epoch 10/100\n",
      "147/147 [==============================] - 24s 163ms/step - loss: 0.0570 - acc: 0.9848 - val_loss: 0.0585 - val_acc: 0.9853\n",
      "\n",
      "Epoch 00010: val_loss did not improve from 0.05324\n",
      "Epoch 11/100\n",
      "147/147 [==============================] - 24s 164ms/step - loss: 0.0558 - acc: 0.9844 - val_loss: 0.0602 - val_acc: 0.9848\n",
      "\n",
      "Epoch 00011: val_loss did not improve from 0.05324\n",
      "Epoch 12/100\n",
      "147/147 [==============================] - 24s 163ms/step - loss: 0.0551 - acc: 0.9843 - val_loss: 0.0572 - val_acc: 0.9848\n",
      "\n",
      "Epoch 00012: val_loss did not improve from 0.05324\n",
      "Epoch 13/100\n",
      "147/147 [==============================] - 24s 164ms/step - loss: 0.0525 - acc: 0.9852 - val_loss: 0.0582 - val_acc: 0.9838\n",
      "\n",
      "Epoch 00013: val_loss did not improve from 0.05324\n",
      "Epoch 14/100\n",
      "147/147 [==============================] - 24s 163ms/step - loss: 0.0488 - acc: 0.9863 - val_loss: 0.0501 - val_acc: 0.9868\n",
      "\n",
      "Epoch 00014: val_loss improved from 0.05324 to 0.05008, saving model to weights.best.h5\n",
      "Epoch 15/100\n",
      "147/147 [==============================] - 24s 162ms/step - loss: 0.0444 - acc: 0.9882 - val_loss: 0.0501 - val_acc: 0.9873\n",
      "\n",
      "Epoch 00015: val_loss did not improve from 0.05008\n",
      "Epoch 16/100\n",
      "147/147 [==============================] - 24s 163ms/step - loss: 0.0433 - acc: 0.9873 - val_loss: 0.0414 - val_acc: 0.9878\n",
      "\n",
      "Epoch 00016: val_loss improved from 0.05008 to 0.04143, saving model to weights.best.h5\n",
      "Epoch 17/100\n",
      "147/147 [==============================] - 24s 163ms/step - loss: 0.0426 - acc: 0.9883 - val_loss: 0.0395 - val_acc: 0.9888\n",
      "\n",
      "Epoch 00017: val_loss improved from 0.04143 to 0.03951, saving model to weights.best.h5\n",
      "Epoch 18/100\n",
      "147/147 [==============================] - 24s 163ms/step - loss: 0.0410 - acc: 0.9883 - val_loss: 0.0429 - val_acc: 0.9878\n",
      "\n",
      "Epoch 00018: val_loss did not improve from 0.03951\n",
      "Epoch 19/100\n",
      "147/147 [==============================] - 24s 164ms/step - loss: 0.0351 - acc: 0.9900 - val_loss: 0.0544 - val_acc: 0.9853\n",
      "\n",
      "Epoch 00019: val_loss did not improve from 0.03951\n",
      "Epoch 20/100\n",
      "147/147 [==============================] - 24s 164ms/step - loss: 0.0392 - acc: 0.9887 - val_loss: 0.0346 - val_acc: 0.9909\n",
      "\n",
      "Epoch 00020: val_loss improved from 0.03951 to 0.03458, saving model to weights.best.h5\n",
      "Epoch 21/100\n",
      "147/147 [==============================] - 24s 163ms/step - loss: 0.0376 - acc: 0.9892 - val_loss: 0.0357 - val_acc: 0.9906\n",
      "\n",
      "Epoch 00021: val_loss did not improve from 0.03458\n",
      "Epoch 22/100\n",
      "147/147 [==============================] - 24s 162ms/step - loss: 0.0359 - acc: 0.9898 - val_loss: 0.0403 - val_acc: 0.9904\n",
      "\n",
      "Epoch 00022: val_loss did not improve from 0.03458\n",
      "Epoch 23/100\n",
      "147/147 [==============================] - 24s 164ms/step - loss: 0.0368 - acc: 0.9901 - val_loss: 0.0306 - val_acc: 0.9921\n",
      "\n",
      "Epoch 00023: val_loss improved from 0.03458 to 0.03060, saving model to weights.best.h5\n",
      "Epoch 24/100\n",
      "147/147 [==============================] - 24s 166ms/step - loss: 0.0340 - acc: 0.9901 - val_loss: 0.0361 - val_acc: 0.9906\n",
      "\n",
      "Epoch 00024: val_loss did not improve from 0.03060\n",
      "Epoch 25/100\n",
      "147/147 [==============================] - 24s 164ms/step - loss: 0.0342 - acc: 0.9902 - val_loss: 0.0453 - val_acc: 0.9896\n",
      "\n",
      "Epoch 00025: val_loss did not improve from 0.03060\n",
      "Epoch 26/100\n",
      "147/147 [==============================] - 24s 163ms/step - loss: 0.0330 - acc: 0.9903 - val_loss: 0.0497 - val_acc: 0.9888\n",
      "\n",
      "Epoch 00026: val_loss did not improve from 0.03060\n",
      "Epoch 27/100\n",
      "147/147 [==============================] - 24s 164ms/step - loss: 0.0334 - acc: 0.9904 - val_loss: 0.0325 - val_acc: 0.9894\n",
      "\n",
      "Epoch 00027: val_loss did not improve from 0.03060\n",
      "Epoch 28/100\n",
      "147/147 [==============================] - 24s 163ms/step - loss: 0.0319 - acc: 0.9911 - val_loss: 0.0406 - val_acc: 0.9911\n",
      "\n",
      "Epoch 00028: ReduceLROnPlateau reducing learning rate to 0.00010000000474974513.\n",
      "\n",
      "Epoch 00028: val_loss did not improve from 0.03060\n",
      "Epoch 29/100\n",
      "147/147 [==============================] - 24s 164ms/step - loss: 0.0231 - acc: 0.9939 - val_loss: 0.0367 - val_acc: 0.9901\n",
      "\n",
      "Epoch 00029: val_loss did not improve from 0.03060\n",
      "Epoch 30/100\n",
      "147/147 [==============================] - 24s 165ms/step - loss: 0.0190 - acc: 0.9941 - val_loss: 0.0272 - val_acc: 0.9924\n",
      "\n",
      "Epoch 00030: val_loss improved from 0.03060 to 0.02717, saving model to weights.best.h5\n",
      "Epoch 31/100\n",
      "147/147 [==============================] - 24s 163ms/step - loss: 0.0191 - acc: 0.9942 - val_loss: 0.0267 - val_acc: 0.9932\n",
      "\n",
      "Epoch 00031: val_loss improved from 0.02717 to 0.02669, saving model to weights.best.h5\n",
      "Epoch 32/100\n",
      "147/147 [==============================] - 18s 123ms/step - loss: 0.0183 - acc: 0.9945 - val_loss: 0.0363 - val_acc: 0.9919\n",
      "\n",
      "Epoch 00032: val_loss did not improve from 0.02669\n",
      "Epoch 33/100\n",
      "147/147 [==============================] - 0s 0us/step - loss: 0.0180 - acc: 0.9947 - val_loss: 0.0382 - val_acc: 0.9926\n",
      "\n",
      "Epoch 00033: val_loss did not improve from 0.02669\n",
      "Epoch 34/100\n",
      "  1/147 [..............................] - ETA: 0s - loss: 0.0082 - acc: 0.9961"
     ]
    }
   ],
   "source": [
    "# Start model training\n",
    "hist = model.fit_generator(datagen.flow(X_train, Y_train, batch_size=256), steps_per_epoch=len(X_train)//batch_size, epochs=nb_epochs, verbose=1, validation_data = datagen.flow(X_val, Y_val, batch_size=256), validation_steps = len(X_val)//batch_size, callbacks=[ReducedLR, early_stop, checkpoint], shuffle = True)"
   ]
  },
  {
   "cell_type": "code",
   "execution_count": null,
   "metadata": {},
   "outputs": [],
   "source": [
    "train_loss = hist.history['loss']\n",
    "val_loss = hist.history['val_loss'] \n",
    "train_acc = hist.history['acc']\n",
    "val_acc = hist.history['val_acc']\n",
    "\n",
    "plt.figure(figsize=(8, 8))\n",
    "plt.title(\"Learning curve\")\n",
    "plt.plot(hist.history[\"loss\"], label=\"loss\")\n",
    "plt.plot(hist.history[\"val_loss\"], label=\"val_loss\")\n",
    "plt.plot( np.argmin(hist.history[\"val_loss\"]), np.min(hist.history[\"val_loss\"]), marker=\"x\", color=\"r\", label=\"best model\")\n",
    "plt.xlabel(\"Epochs\")\n",
    "plt.ylabel(\"loss\")\n",
    "plt.legend()"
   ]
  },
  {
   "cell_type": "code",
   "execution_count": null,
   "metadata": {},
   "outputs": [],
   "source": [
    "# Save model and weights\n",
    "model_json = model.to_json()\n",
    "with open(\"model.json\", \"w\") as json_file:\n",
    "    json_file.write(model_json)\n",
    "\n",
    "# Serialize weights to H5\n",
    "model.save_weights(\"model.h5\")\n",
    "print(\"Saved model to disk\")"
   ]
  },
  {
   "cell_type": "code",
   "execution_count": null,
   "metadata": {},
   "outputs": [],
   "source": [
    "# Load model and weights\n",
    "json_file = open('model.json', 'r')\n",
    "loaded_model_json = json_file.read()\n",
    "json_file.close()\n",
    "loaded_model = model_from_json(loaded_model_json)\n",
    "\n",
    "# Load weights into new model\n",
    "loaded_model.load_weights(\"weights.best.h5\")\n",
    "print(\"Loaded model from disk\")"
   ]
  },
  {
   "cell_type": "code",
   "execution_count": null,
   "metadata": {},
   "outputs": [],
   "source": [
    "# Find test loss and accuracy\n",
    "loaded_model.compile(loss='categorical_crossentropy', optimizer = opt, metrics = ['accuracy'])\n",
    "score = loaded_model.evaluate(X_val, Y_val, verbose=0) # accuracy check\n",
    "print('Test loss:', score[0], 'Accuracy:', score[1]) "
   ]
  },
  {
   "cell_type": "code",
   "execution_count": null,
   "metadata": {},
   "outputs": [],
   "source": [
    "# Testing\n",
    "test_data = np.genfromtxt('test.csv', delimiter = ',')\n",
    "test_data = test_data[1:]"
   ]
  },
  {
   "cell_type": "code",
   "execution_count": null,
   "metadata": {},
   "outputs": [],
   "source": [
    "print(test_data)"
   ]
  },
  {
   "cell_type": "code",
   "execution_count": null,
   "metadata": {},
   "outputs": [],
   "source": [
    "test_data = test_data.reshape(test_data.shape[0], img_rows, img_cols, 1) \n",
    "test_data = test_data.astype('float32')\n",
    "\n",
    "test_data /= 255"
   ]
  },
  {
   "cell_type": "code",
   "execution_count": null,
   "metadata": {},
   "outputs": [],
   "source": [
    "predictions = loaded_model.predict_classes(test_data)\n",
    "print(predictions)"
   ]
  },
  {
   "cell_type": "code",
   "execution_count": null,
   "metadata": {},
   "outputs": [],
   "source": [
    "output=pd.DataFrame({\"ImageId\": list(range(1,len(predictions)+1)), \"Label\": predictions})\n",
    "output.to_csv(\"submission.csv\", index=False, header=True)"
   ]
  }
 ],
 "metadata": {
  "kernelspec": {
   "display_name": "Python 3",
   "language": "python",
   "name": "python3"
  },
  "language_info": {
   "codemirror_mode": {
    "name": "ipython",
    "version": 3
   },
   "file_extension": ".py",
   "mimetype": "text/x-python",
   "name": "python",
   "nbconvert_exporter": "python",
   "pygments_lexer": "ipython3",
   "version": "3.6.5"
  }
 },
 "nbformat": 4,
 "nbformat_minor": 2
}
